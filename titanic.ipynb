{
 "cells": [
  {
   "cell_type": "code",
   "execution_count": 2,
   "id": "2e3b3cc0",
   "metadata": {},
   "outputs": [],
   "source": [
    "import pandas as pd\n",
    "import numpy as np\n",
    "import matplotlib.pyplot as plt\n",
    "%matplotlib inline\n",
    "import seaborn as sns"
   ]
  },
  {
   "cell_type": "code",
   "execution_count": 3,
   "id": "ebfd5907",
   "metadata": {},
   "outputs": [],
   "source": [
    "train=pd.read_csv(r'C:\\Users\\sonik\\Downloads\\titanic\\train.csv')\n",
    "test=pd.read_csv(r'C:\\Users\\sonik\\Downloads\\titanic\\test.csv')"
   ]
  },
  {
   "cell_type": "code",
   "execution_count": 4,
   "id": "7ed03683",
   "metadata": {},
   "outputs": [
    {
     "name": "stdout",
     "output_type": "stream",
     "text": [
      "Train set shape: (891, 12)\n",
      "Test set shape: (418, 11)\n"
     ]
    },
    {
     "data": {
      "text/html": [
       "<div>\n",
       "<style scoped>\n",
       "    .dataframe tbody tr th:only-of-type {\n",
       "        vertical-align: middle;\n",
       "    }\n",
       "\n",
       "    .dataframe tbody tr th {\n",
       "        vertical-align: top;\n",
       "    }\n",
       "\n",
       "    .dataframe thead th {\n",
       "        text-align: right;\n",
       "    }\n",
       "</style>\n",
       "<table border=\"1\" class=\"dataframe\">\n",
       "  <thead>\n",
       "    <tr style=\"text-align: right;\">\n",
       "      <th></th>\n",
       "      <th>PassengerId</th>\n",
       "      <th>Survived</th>\n",
       "      <th>Pclass</th>\n",
       "      <th>Name</th>\n",
       "      <th>Sex</th>\n",
       "      <th>Age</th>\n",
       "      <th>SibSp</th>\n",
       "      <th>Parch</th>\n",
       "      <th>Ticket</th>\n",
       "      <th>Fare</th>\n",
       "      <th>Cabin</th>\n",
       "      <th>Embarked</th>\n",
       "    </tr>\n",
       "  </thead>\n",
       "  <tbody>\n",
       "    <tr>\n",
       "      <th>0</th>\n",
       "      <td>1</td>\n",
       "      <td>0</td>\n",
       "      <td>3</td>\n",
       "      <td>Braund, Mr. Owen Harris</td>\n",
       "      <td>male</td>\n",
       "      <td>22.0</td>\n",
       "      <td>1</td>\n",
       "      <td>0</td>\n",
       "      <td>A/5 21171</td>\n",
       "      <td>7.2500</td>\n",
       "      <td>NaN</td>\n",
       "      <td>S</td>\n",
       "    </tr>\n",
       "    <tr>\n",
       "      <th>1</th>\n",
       "      <td>2</td>\n",
       "      <td>1</td>\n",
       "      <td>1</td>\n",
       "      <td>Cumings, Mrs. John Bradley (Florence Briggs Th...</td>\n",
       "      <td>female</td>\n",
       "      <td>38.0</td>\n",
       "      <td>1</td>\n",
       "      <td>0</td>\n",
       "      <td>PC 17599</td>\n",
       "      <td>71.2833</td>\n",
       "      <td>C85</td>\n",
       "      <td>C</td>\n",
       "    </tr>\n",
       "    <tr>\n",
       "      <th>2</th>\n",
       "      <td>3</td>\n",
       "      <td>1</td>\n",
       "      <td>3</td>\n",
       "      <td>Heikkinen, Miss. Laina</td>\n",
       "      <td>female</td>\n",
       "      <td>26.0</td>\n",
       "      <td>0</td>\n",
       "      <td>0</td>\n",
       "      <td>STON/O2. 3101282</td>\n",
       "      <td>7.9250</td>\n",
       "      <td>NaN</td>\n",
       "      <td>S</td>\n",
       "    </tr>\n",
       "    <tr>\n",
       "      <th>3</th>\n",
       "      <td>4</td>\n",
       "      <td>1</td>\n",
       "      <td>1</td>\n",
       "      <td>Futrelle, Mrs. Jacques Heath (Lily May Peel)</td>\n",
       "      <td>female</td>\n",
       "      <td>35.0</td>\n",
       "      <td>1</td>\n",
       "      <td>0</td>\n",
       "      <td>113803</td>\n",
       "      <td>53.1000</td>\n",
       "      <td>C123</td>\n",
       "      <td>S</td>\n",
       "    </tr>\n",
       "    <tr>\n",
       "      <th>4</th>\n",
       "      <td>5</td>\n",
       "      <td>0</td>\n",
       "      <td>3</td>\n",
       "      <td>Allen, Mr. William Henry</td>\n",
       "      <td>male</td>\n",
       "      <td>35.0</td>\n",
       "      <td>0</td>\n",
       "      <td>0</td>\n",
       "      <td>373450</td>\n",
       "      <td>8.0500</td>\n",
       "      <td>NaN</td>\n",
       "      <td>S</td>\n",
       "    </tr>\n",
       "  </tbody>\n",
       "</table>\n",
       "</div>"
      ],
      "text/plain": [
       "   PassengerId  Survived  Pclass  \\\n",
       "0            1         0       3   \n",
       "1            2         1       1   \n",
       "2            3         1       3   \n",
       "3            4         1       1   \n",
       "4            5         0       3   \n",
       "\n",
       "                                                Name     Sex   Age  SibSp  \\\n",
       "0                            Braund, Mr. Owen Harris    male  22.0      1   \n",
       "1  Cumings, Mrs. John Bradley (Florence Briggs Th...  female  38.0      1   \n",
       "2                             Heikkinen, Miss. Laina  female  26.0      0   \n",
       "3       Futrelle, Mrs. Jacques Heath (Lily May Peel)  female  35.0      1   \n",
       "4                           Allen, Mr. William Henry    male  35.0      0   \n",
       "\n",
       "   Parch            Ticket     Fare Cabin Embarked  \n",
       "0      0         A/5 21171   7.2500   NaN        S  \n",
       "1      0          PC 17599  71.2833   C85        C  \n",
       "2      0  STON/O2. 3101282   7.9250   NaN        S  \n",
       "3      0            113803  53.1000  C123        S  \n",
       "4      0            373450   8.0500   NaN        S  "
      ]
     },
     "execution_count": 4,
     "metadata": {},
     "output_type": "execute_result"
    }
   ],
   "source": [
    "print('Train set shape:', train.shape)\n",
    "print('Test set shape:', test.shape)\n",
    "train.head()\n"
   ]
  },
  {
   "cell_type": "code",
   "execution_count": 5,
   "id": "d743d02d",
   "metadata": {
    "scrolled": true
   },
   "outputs": [
    {
     "name": "stdout",
     "output_type": "stream",
     "text": [
      "TRAIN SET MISSING VALUES:\n",
      "PassengerId      0\n",
      "Survived         0\n",
      "Pclass           0\n",
      "Name             0\n",
      "Sex              0\n",
      "Age            177\n",
      "SibSp            0\n",
      "Parch            0\n",
      "Ticket           0\n",
      "Fare             0\n",
      "Cabin          687\n",
      "Embarked         2\n",
      "dtype: int64\n",
      "\n",
      "TEST SET MISSING VALUES:\n",
      "PassengerId      0\n",
      "Pclass           0\n",
      "Name             0\n",
      "Sex              0\n",
      "Age             86\n",
      "SibSp            0\n",
      "Parch            0\n",
      "Ticket           0\n",
      "Fare             1\n",
      "Cabin          327\n",
      "Embarked         0\n",
      "dtype: int64\n"
     ]
    }
   ],
   "source": [
    "print('TRAIN SET MISSING VALUES:')\n",
    "print(train.isna().sum())\n",
    "print('')\n",
    "print('TEST SET MISSING VALUES:')\n",
    "print(test.isna().sum())"
   ]
  },
  {
   "cell_type": "code",
   "execution_count": 6,
   "id": "aad17b21",
   "metadata": {},
   "outputs": [
    {
     "name": "stdout",
     "output_type": "stream",
     "text": [
      "Duplicates in train set: 0, (0.0%)\n",
      "\n",
      "Duplicates in test set: 0, (0.0%)\n"
     ]
    }
   ],
   "source": [
    "print(f'Duplicates in train set: {train.duplicated().sum()}, ({np.round(100*train.duplicated().sum()/len(train),1)}%)')\n",
    "print('')\n",
    "print(f'Duplicates in test set: {test.duplicated().sum()}, ({np.round(100*test.duplicated().sum()/len(test),1)}%)')"
   ]
  },
  {
   "cell_type": "code",
   "execution_count": 7,
   "id": "bed9b789",
   "metadata": {},
   "outputs": [
    {
     "data": {
      "text/plain": [
       "PassengerId    891\n",
       "Survived         2\n",
       "Pclass           3\n",
       "Name           891\n",
       "Sex              2\n",
       "Age             88\n",
       "SibSp            7\n",
       "Parch            7\n",
       "Ticket         681\n",
       "Fare           248\n",
       "Cabin          147\n",
       "Embarked         3\n",
       "dtype: int64"
      ]
     },
     "execution_count": 7,
     "metadata": {},
     "output_type": "execute_result"
    }
   ],
   "source": [
    "train.nunique()"
   ]
  },
  {
   "cell_type": "code",
   "execution_count": 8,
   "id": "aa5076c6",
   "metadata": {},
   "outputs": [],
   "source": [
    "## continours = age, sibsp, parch, fare, \n",
    "## categorical = pclass, sex, embarked\n",
    "## qualitative = passengerid, name, ticket, cabin\n",
    "## target = survived"
   ]
  },
  {
   "cell_type": "code",
   "execution_count": 9,
   "id": "922525d9",
   "metadata": {},
   "outputs": [
    {
     "data": {
      "text/plain": [
       "PassengerId      int64\n",
       "Survived         int64\n",
       "Pclass           int64\n",
       "Name            object\n",
       "Sex             object\n",
       "Age            float64\n",
       "SibSp            int64\n",
       "Parch            int64\n",
       "Ticket          object\n",
       "Fare           float64\n",
       "Cabin           object\n",
       "Embarked        object\n",
       "dtype: object"
      ]
     },
     "execution_count": 9,
     "metadata": {},
     "output_type": "execute_result"
    }
   ],
   "source": [
    "train.dtypes"
   ]
  },
  {
   "cell_type": "code",
   "execution_count": 10,
   "id": "54ddb632",
   "metadata": {},
   "outputs": [
    {
     "data": {
      "text/plain": [
       "<AxesSubplot:ylabel='Survived'>"
      ]
     },
     "execution_count": 10,
     "metadata": {},
     "output_type": "execute_result"
    },
    {
     "data": {
      "image/png": "[encoded data removed]",
      "text/plain": [
       "<Figure size 600x600 with 1 Axes>"
      ]
     },
     "metadata": {},
     "output_type": "display_data"
    }
   ],
   "source": [
    "plt.figure(figsize=(6,6))\n",
    "train['Survived'].value_counts().plot.pie(explode=[0.1,.1], autopct='%.1f%%')\n"
   ]
  },
  {
   "cell_type": "code",
   "execution_count": 11,
   "id": "d1fa4bca",
   "metadata": {},
   "outputs": [],
   "source": [
    "## continous variables"
   ]
  },
  {
   "cell_type": "code",
   "execution_count": 12,
   "id": "79855841",
   "metadata": {},
   "outputs": [
    {
     "data": {
      "text/plain": [
       "<AxesSubplot:xlabel='Age', ylabel='Count'>"
      ]
     },
     "execution_count": 12,
     "metadata": {},
     "output_type": "execute_result"
    },
    {
     "data": {
      "image/png": "[encoded data removed]",
      "text/plain": [
       "<Figure size 640x480 with 1 Axes>"
      ]
     },
     "metadata": {},
     "output_type": "display_data"
    }
   ],
   "source": [
    "#age\n",
    "\n",
    "sns.histplot(train, x= 'Age', hue='Survived', binwidth=1, kde=True )"
   ]
  },
  {
   "cell_type": "code",
   "execution_count": 13,
   "id": "8233d109",
   "metadata": {},
   "outputs": [],
   "source": [
    "## <= 9 yrs age= more likely to survive\n",
    "##  10 and older = less likely to survive\n",
    "## task1 = create 2 age gorups"
   ]
  },
  {
   "cell_type": "code",
   "execution_count": 14,
   "id": "81e53d77",
   "metadata": {},
   "outputs": [
    {
     "data": {
      "text/plain": [
       "<AxesSubplot:xlabel='Parch', ylabel='Count'>"
      ]
     },
     "execution_count": 14,
     "metadata": {},
     "output_type": "execute_result"
    },
    {
     "data": {
      "image/png": "[encoded data removed]",
      "text/plain": [
       "<Figure size 600x600 with 1 Axes>"
      ]
     },
     "metadata": {},
     "output_type": "display_data"
    }
   ],
   "source": [
    "plt.figure(figsize=(6,6))\n",
    "\n",
    "sns.histplot(train, x='Parch', hue='Survived', kde=True)\n"
   ]
  },
  {
   "cell_type": "code",
   "execution_count": 15,
   "id": "741abf4d",
   "metadata": {},
   "outputs": [
    {
     "data": {
      "text/plain": [
       "<AxesSubplot:xlabel='SibSp', ylabel='Count'>"
      ]
     },
     "execution_count": 15,
     "metadata": {},
     "output_type": "execute_result"
    },
    {
     "data": {
      "image/png": "[encoded data removed]",
      "text/plain": [
       "<Figure size 600x600 with 1 Axes>"
      ]
     },
     "metadata": {},
     "output_type": "display_data"
    }
   ],
   "source": [
    "plt.figure(figsize=(6,6))\n",
    "\n",
    "sns.histplot(train, x='SibSp', hue='Survived',  kde=True)\n",
    "\n"
   ]
  },
  {
   "cell_type": "code",
   "execution_count": 16,
   "id": "ebf2c869",
   "metadata": {},
   "outputs": [
    {
     "data": {
      "image/png": "[encoded data removed]",
      "text/plain": [
       "<Figure size 600x600 with 1 Axes>"
      ]
     },
     "metadata": {},
     "output_type": "display_data"
    }
   ],
   "source": [
    "plt.figure(figsize=(6,6))\n",
    "\n",
    "fig=sns.histplot(train, x='Fare', hue='Survived', bins=[0,50,300,500,600])\n",
    "fig.set_ylim=(0,500)\n"
   ]
  },
  {
   "cell_type": "code",
   "execution_count": 17,
   "id": "172dc5e7",
   "metadata": {},
   "outputs": [],
   "source": [
    "##fare = 50 less likely, 51-150 more likely, 150 and above equal\n",
    "##Parch = with 1 more likely, with all others less likely\n",
    "##SibSp = with 1 more likely, with all others less likely\n",
    "\n",
    "## fare regions\n",
    "## Parch create 1 or not\n",
    "## Sibsp create 1 or not\n"
   ]
  },
  {
   "cell_type": "code",
   "execution_count": 18,
   "id": "26617caf",
   "metadata": {},
   "outputs": [],
   "source": [
    "## Categorical variables\n"
   ]
  },
  {
   "cell_type": "code",
   "execution_count": 19,
   "id": "d260cd55",
   "metadata": {},
   "outputs": [
    {
     "data": {
      "image/png": "[encoded data removed]",
      "text/plain": [
       "<Figure size 1000x1600 with 1 Axes>"
      ]
     },
     "metadata": {},
     "output_type": "display_data"
    },
    {
     "data": {
      "image/png": "[encoded data removed]",
      "text/plain": [
       "<Figure size 1000x1600 with 1 Axes>"
      ]
     },
     "metadata": {},
     "output_type": "display_data"
    },
    {
     "data": {
      "image/png": "[encoded data removed]",
      "text/plain": [
       "<Figure size 1000x1600 with 1 Axes>"
      ]
     },
     "metadata": {},
     "output_type": "display_data"
    }
   ],
   "source": [
    "cat_features=['Pclass', 'Sex', 'Embarked']\n",
    "\n",
    "for i,feature in enumerate(cat_features):\n",
    "    plot=plt.figure(figsize=(10,16))\n",
    "    ax=plot.add_subplot(3,1,i+1)\n",
    "    sns.countplot(data=train, x= feature,  hue='Survived',axes=ax)\n",
    "    ax.set_title= feature\n"
   ]
  },
  {
   "cell_type": "code",
   "execution_count": 20,
   "id": "59a8eef8",
   "metadata": {},
   "outputs": [
    {
     "data": {
      "text/plain": [
       "<AxesSubplot:xlabel='Cabin', ylabel='Count'>"
      ]
     },
     "execution_count": 20,
     "metadata": {},
     "output_type": "execute_result"
    },
    {
     "data": {
      "image/png": "[encoded data removed]",
      "text/plain": [
       "<Figure size 640x480 with 1 Axes>"
      ]
     },
     "metadata": {},
     "output_type": "display_data"
    }
   ],
   "source": [
    "qual_feat=['PassengerId','Name','Ticket','Cabin']\n",
    "sns.histplot(data=train, x='Cabin', hue='Survived', kde=True)"
   ]
  },
  {
   "cell_type": "code",
   "execution_count": 21,
   "id": "450b33d6",
   "metadata": {},
   "outputs": [
    {
     "name": "stdout",
     "output_type": "stream",
     "text": [
      "Defaulting to user installation because normal site-packages is not writeable\n",
      "Requirement already satisfied: pandasql in c:\\users\\sonik\\appdata\\roaming\\python\\python39\\site-packages (0.7.3)\n",
      "Requirement already satisfied: numpy in c:\\programdata\\anaconda3\\lib\\site-packages (from pandasql) (1.21.5)\n",
      "Requirement already satisfied: sqlalchemy in c:\\programdata\\anaconda3\\lib\\site-packages (from pandasql) (1.4.39)\n",
      "Requirement already satisfied: pandas in c:\\programdata\\anaconda3\\lib\\site-packages (from pandasql) (1.4.4)\n",
      "Requirement already satisfied: python-dateutil>=2.8.1 in c:\\programdata\\anaconda3\\lib\\site-packages (from pandas->pandasql) (2.8.2)\n",
      "Requirement already satisfied: pytz>=2020.1 in c:\\programdata\\anaconda3\\lib\\site-packages (from pandas->pandasql) (2022.1)\n",
      "Requirement already satisfied: greenlet!=0.4.17 in c:\\programdata\\anaconda3\\lib\\site-packages (from sqlalchemy->pandasql) (1.1.1)\n",
      "Requirement already satisfied: six>=1.5 in c:\\programdata\\anaconda3\\lib\\site-packages (from python-dateutil>=2.8.1->pandas->pandasql) (1.16.0)\n",
      "Note: you may need to restart the kernel to use updated packages.\n"
     ]
    }
   ],
   "source": [
    "pip install -U pandasql"
   ]
  },
  {
   "cell_type": "code",
   "execution_count": 22,
   "id": "de5c8a1f",
   "metadata": {},
   "outputs": [],
   "source": [
    "from pandasql import sqldf "
   ]
  },
  {
   "cell_type": "code",
   "execution_count": 23,
   "id": "afdcca6d",
   "metadata": {},
   "outputs": [
    {
     "data": {
      "text/plain": [
       "array([nan, 'C85', 'C123', 'E46', 'G6', 'C103', 'D56', 'A6',\n",
       "       'C23 C25 C27', 'B78', 'D33', 'B30', 'C52', 'B28', 'C83', 'F33',\n",
       "       'F G73', 'E31', 'A5', 'D10 D12', 'D26', 'C110', 'B58 B60', 'E101',\n",
       "       'F E69', 'D47', 'B86', 'F2', 'C2', 'E33', 'B19', 'A7', 'C49', 'F4',\n",
       "       'A32', 'B4', 'B80', 'A31', 'D36', 'D15', 'C93', 'C78', 'D35',\n",
       "       'C87', 'B77', 'E67', 'B94', 'C125', 'C99', 'C118', 'D7', 'A19',\n",
       "       'B49', 'D', 'C22 C26', 'C106', 'C65', 'E36', 'C54',\n",
       "       'B57 B59 B63 B66', 'C7', 'E34', 'C32', 'B18', 'C124', 'C91', 'E40',\n",
       "       'T', 'C128', 'D37', 'B35', 'E50', 'C82', 'B96 B98', 'E10', 'E44',\n",
       "       'A34', 'C104', 'C111', 'C92', 'E38', 'D21', 'E12', 'E63', 'A14',\n",
       "       'B37', 'C30', 'D20', 'B79', 'E25', 'D46', 'B73', 'C95', 'B38',\n",
       "       'B39', 'B22', 'C86', 'C70', 'A16', 'C101', 'C68', 'A10', 'E68',\n",
       "       'B41', 'A20', 'D19', 'D50', 'D9', 'A23', 'B50', 'A26', 'D48',\n",
       "       'E58', 'C126', 'B71', 'B51 B53 B55', 'D49', 'B5', 'B20', 'F G63',\n",
       "       'C62 C64', 'E24', 'C90', 'C45', 'E8', 'B101', 'D45', 'C46', 'D30',\n",
       "       'E121', 'D11', 'E77', 'F38', 'B3', 'D6', 'B82 B84', 'D17', 'A36',\n",
       "       'B102', 'B69', 'E49', 'C47', 'D28', 'E17', 'A24', 'C50', 'B42',\n",
       "       'C148'], dtype=object)"
      ]
     },
     "execution_count": 23,
     "metadata": {},
     "output_type": "execute_result"
    }
   ],
   "source": [
    "\n",
    "train['Cabin'].unique()\n"
   ]
  },
  {
   "cell_type": "code",
   "execution_count": 24,
   "id": "c94c92f2",
   "metadata": {},
   "outputs": [],
   "source": [
    "import string"
   ]
  },
  {
   "cell_type": "code",
   "execution_count": 25,
   "id": "96e3a844",
   "metadata": {},
   "outputs": [
    {
     "data": {
      "text/plain": [
       "Index(['PassengerId', 'Survived', 'Pclass', 'Name', 'Sex', 'Age', 'SibSp',\n",
       "       'Parch', 'Ticket', 'Fare', 'Cabin', 'Embarked', 'Surname'],\n",
       "      dtype='object')"
      ]
     },
     "execution_count": 25,
     "metadata": {},
     "output_type": "execute_result"
    }
   ],
   "source": [
    "surnames=[]\n",
    "data=train.copy()\n",
    "\n",
    "for row in train['Name']:\n",
    "    surname=row.split(',')[0]\n",
    "    surnames.append(surname)\n",
    "data['Surname']=surnames\n",
    "data.columns"
   ]
  },
  {
   "cell_type": "code",
   "execution_count": 26,
   "id": "57faf176",
   "metadata": {},
   "outputs": [],
   "source": [
    "alphabets=list(string.ascii_uppercase)\n",
    "grp=[]\n",
    "\n",
    "for i,row in enumerate(data['Cabin']):\n",
    "        if type(row)==float:\n",
    "            grp.append('Unknown')\n",
    "        elif type(row)==str:\n",
    "            for alphabet in alphabets:\n",
    "                if row[0]==alphabet:\n",
    "                    grp.append(alphabet)\n",
    "data['cabin_grp']=grp\n",
    "        \n",
    "            "
   ]
  },
  {
   "cell_type": "code",
   "execution_count": 27,
   "id": "20eab093",
   "metadata": {},
   "outputs": [
    {
     "data": {
      "text/plain": [
       "PassengerId      0\n",
       "Survived         0\n",
       "Pclass           0\n",
       "Name             0\n",
       "Sex              0\n",
       "Age            177\n",
       "SibSp            0\n",
       "Parch            0\n",
       "Ticket           0\n",
       "Fare             0\n",
       "Cabin          687\n",
       "Embarked         2\n",
       "Surname          0\n",
       "cabin_grp        0\n",
       "dtype: int64"
      ]
     },
     "execution_count": 27,
     "metadata": {},
     "output_type": "execute_result"
    }
   ],
   "source": [
    "### dealing with missing values\n",
    "data.isnull().sum()"
   ]
  },
  {
   "cell_type": "code",
   "execution_count": 28,
   "id": "6c2a27a2",
   "metadata": {},
   "outputs": [
    {
     "data": {
      "text/plain": [
       "<AxesSubplot:xlabel='cabin_grp', ylabel='Count'>"
      ]
     },
     "execution_count": 28,
     "metadata": {},
     "output_type": "execute_result"
    },
    {
     "data": {
      "image/png": "[encoded data removed]",
      "text/plain": [
       "<Figure size 640x480 with 1 Axes>"
      ]
     },
     "metadata": {},
     "output_type": "display_data"
    }
   ],
   "source": [
    "sns.histplot(data=data, x='cabin_grp', hue='Survived', kde=True)\n",
    "\n"
   ]
  },
  {
   "cell_type": "code",
   "execution_count": 29,
   "id": "e4d50876",
   "metadata": {},
   "outputs": [
    {
     "name": "stderr",
     "output_type": "stream",
     "text": [
      "C:\\Users\\sonik\\AppData\\Local\\Temp\\ipykernel_2072\\3752026090.py:1: FutureWarning: Indexing with multiple keys (implicitly converted to a tuple of keys) will be deprecated, use a list instead.\n",
      "  data.groupby(by='cabin_grp')['cabin_grp','Survived'].mean()\n"
     ]
    },
    {
     "data": {
      "text/html": [
       "<div>\n",
       "<style scoped>\n",
       "    .dataframe tbody tr th:only-of-type {\n",
       "        vertical-align: middle;\n",
       "    }\n",
       "\n",
       "    .dataframe tbody tr th {\n",
       "        vertical-align: top;\n",
       "    }\n",
       "\n",
       "    .dataframe thead th {\n",
       "        text-align: right;\n",
       "    }\n",
       "</style>\n",
       "<table border=\"1\" class=\"dataframe\">\n",
       "  <thead>\n",
       "    <tr style=\"text-align: right;\">\n",
       "      <th></th>\n",
       "      <th>Survived</th>\n",
       "    </tr>\n",
       "    <tr>\n",
       "      <th>cabin_grp</th>\n",
       "      <th></th>\n",
       "    </tr>\n",
       "  </thead>\n",
       "  <tbody>\n",
       "    <tr>\n",
       "      <th>A</th>\n",
       "      <td>0.466667</td>\n",
       "    </tr>\n",
       "    <tr>\n",
       "      <th>B</th>\n",
       "      <td>0.744681</td>\n",
       "    </tr>\n",
       "    <tr>\n",
       "      <th>C</th>\n",
       "      <td>0.593220</td>\n",
       "    </tr>\n",
       "    <tr>\n",
       "      <th>D</th>\n",
       "      <td>0.757576</td>\n",
       "    </tr>\n",
       "    <tr>\n",
       "      <th>E</th>\n",
       "      <td>0.750000</td>\n",
       "    </tr>\n",
       "    <tr>\n",
       "      <th>F</th>\n",
       "      <td>0.615385</td>\n",
       "    </tr>\n",
       "    <tr>\n",
       "      <th>G</th>\n",
       "      <td>0.500000</td>\n",
       "    </tr>\n",
       "    <tr>\n",
       "      <th>T</th>\n",
       "      <td>0.000000</td>\n",
       "    </tr>\n",
       "    <tr>\n",
       "      <th>Unknown</th>\n",
       "      <td>0.299854</td>\n",
       "    </tr>\n",
       "  </tbody>\n",
       "</table>\n",
       "</div>"
      ],
      "text/plain": [
       "           Survived\n",
       "cabin_grp          \n",
       "A          0.466667\n",
       "B          0.744681\n",
       "C          0.593220\n",
       "D          0.757576\n",
       "E          0.750000\n",
       "F          0.615385\n",
       "G          0.500000\n",
       "T          0.000000\n",
       "Unknown    0.299854"
      ]
     },
     "execution_count": 29,
     "metadata": {},
     "output_type": "execute_result"
    }
   ],
   "source": [
    "data.groupby(by='cabin_grp')['cabin_grp','Survived'].mean()"
   ]
  },
  {
   "cell_type": "code",
   "execution_count": 30,
   "id": "4e7be560",
   "metadata": {},
   "outputs": [
    {
     "data": {
      "text/html": [
       "<div>\n",
       "<style scoped>\n",
       "    .dataframe tbody tr th:only-of-type {\n",
       "        vertical-align: middle;\n",
       "    }\n",
       "\n",
       "    .dataframe tbody tr th {\n",
       "        vertical-align: top;\n",
       "    }\n",
       "\n",
       "    .dataframe thead th {\n",
       "        text-align: right;\n",
       "    }\n",
       "</style>\n",
       "<table border=\"1\" class=\"dataframe\">\n",
       "  <thead>\n",
       "    <tr style=\"text-align: right;\">\n",
       "      <th></th>\n",
       "      <th>PassengerId</th>\n",
       "      <th>Survived</th>\n",
       "      <th>Pclass</th>\n",
       "      <th>Name</th>\n",
       "      <th>Sex</th>\n",
       "      <th>Age</th>\n",
       "      <th>SibSp</th>\n",
       "      <th>Parch</th>\n",
       "      <th>Ticket</th>\n",
       "      <th>Fare</th>\n",
       "      <th>Cabin</th>\n",
       "      <th>Embarked</th>\n",
       "      <th>Surname</th>\n",
       "      <th>cabin_grp</th>\n",
       "      <th>cabin_know</th>\n",
       "    </tr>\n",
       "  </thead>\n",
       "  <tbody>\n",
       "    <tr>\n",
       "      <th>0</th>\n",
       "      <td>1</td>\n",
       "      <td>0</td>\n",
       "      <td>3</td>\n",
       "      <td>Braund, Mr. Owen Harris</td>\n",
       "      <td>male</td>\n",
       "      <td>22.0</td>\n",
       "      <td>1</td>\n",
       "      <td>0</td>\n",
       "      <td>A/5 21171</td>\n",
       "      <td>7.2500</td>\n",
       "      <td>NaN</td>\n",
       "      <td>S</td>\n",
       "      <td>Braund</td>\n",
       "      <td>Unknown</td>\n",
       "      <td>0</td>\n",
       "    </tr>\n",
       "    <tr>\n",
       "      <th>1</th>\n",
       "      <td>2</td>\n",
       "      <td>1</td>\n",
       "      <td>1</td>\n",
       "      <td>Cumings, Mrs. John Bradley (Florence Briggs Th...</td>\n",
       "      <td>female</td>\n",
       "      <td>38.0</td>\n",
       "      <td>1</td>\n",
       "      <td>0</td>\n",
       "      <td>PC 17599</td>\n",
       "      <td>71.2833</td>\n",
       "      <td>C85</td>\n",
       "      <td>C</td>\n",
       "      <td>Cumings</td>\n",
       "      <td>C</td>\n",
       "      <td>1</td>\n",
       "    </tr>\n",
       "    <tr>\n",
       "      <th>2</th>\n",
       "      <td>3</td>\n",
       "      <td>1</td>\n",
       "      <td>3</td>\n",
       "      <td>Heikkinen, Miss. Laina</td>\n",
       "      <td>female</td>\n",
       "      <td>26.0</td>\n",
       "      <td>0</td>\n",
       "      <td>0</td>\n",
       "      <td>STON/O2. 3101282</td>\n",
       "      <td>7.9250</td>\n",
       "      <td>NaN</td>\n",
       "      <td>S</td>\n",
       "      <td>Heikkinen</td>\n",
       "      <td>Unknown</td>\n",
       "      <td>0</td>\n",
       "    </tr>\n",
       "    <tr>\n",
       "      <th>3</th>\n",
       "      <td>4</td>\n",
       "      <td>1</td>\n",
       "      <td>1</td>\n",
       "      <td>Futrelle, Mrs. Jacques Heath (Lily May Peel)</td>\n",
       "      <td>female</td>\n",
       "      <td>35.0</td>\n",
       "      <td>1</td>\n",
       "      <td>0</td>\n",
       "      <td>113803</td>\n",
       "      <td>53.1000</td>\n",
       "      <td>C123</td>\n",
       "      <td>S</td>\n",
       "      <td>Futrelle</td>\n",
       "      <td>C</td>\n",
       "      <td>1</td>\n",
       "    </tr>\n",
       "    <tr>\n",
       "      <th>4</th>\n",
       "      <td>5</td>\n",
       "      <td>0</td>\n",
       "      <td>3</td>\n",
       "      <td>Allen, Mr. William Henry</td>\n",
       "      <td>male</td>\n",
       "      <td>35.0</td>\n",
       "      <td>0</td>\n",
       "      <td>0</td>\n",
       "      <td>373450</td>\n",
       "      <td>8.0500</td>\n",
       "      <td>NaN</td>\n",
       "      <td>S</td>\n",
       "      <td>Allen</td>\n",
       "      <td>Unknown</td>\n",
       "      <td>0</td>\n",
       "    </tr>\n",
       "  </tbody>\n",
       "</table>\n",
       "</div>"
      ],
      "text/plain": [
       "   PassengerId  Survived  Pclass  \\\n",
       "0            1         0       3   \n",
       "1            2         1       1   \n",
       "2            3         1       3   \n",
       "3            4         1       1   \n",
       "4            5         0       3   \n",
       "\n",
       "                                                Name     Sex   Age  SibSp  \\\n",
       "0                            Braund, Mr. Owen Harris    male  22.0      1   \n",
       "1  Cumings, Mrs. John Bradley (Florence Briggs Th...  female  38.0      1   \n",
       "2                             Heikkinen, Miss. Laina  female  26.0      0   \n",
       "3       Futrelle, Mrs. Jacques Heath (Lily May Peel)  female  35.0      1   \n",
       "4                           Allen, Mr. William Henry    male  35.0      0   \n",
       "\n",
       "   Parch            Ticket     Fare Cabin Embarked    Surname cabin_grp  \\\n",
       "0      0         A/5 21171   7.2500   NaN        S     Braund   Unknown   \n",
       "1      0          PC 17599  71.2833   C85        C    Cumings         C   \n",
       "2      0  STON/O2. 3101282   7.9250   NaN        S  Heikkinen   Unknown   \n",
       "3      0            113803  53.1000  C123        S   Futrelle         C   \n",
       "4      0            373450   8.0500   NaN        S      Allen   Unknown   \n",
       "\n",
       "   cabin_know  \n",
       "0           0  \n",
       "1           1  \n",
       "2           0  \n",
       "3           1  \n",
       "4           0  "
      ]
     },
     "execution_count": 30,
     "metadata": {},
     "output_type": "execute_result"
    }
   ],
   "source": [
    "alphabets=list(string.ascii_uppercase)\n",
    "grp1=[]\n",
    "for i,row in enumerate(data['Cabin']):\n",
    "        if type(row)==float:\n",
    "            grp1.append(0)\n",
    "        elif type(row)==str:\n",
    "            grp1.append(1)\n",
    "data['cabin_know']=grp1\n",
    "data.head()"
   ]
  },
  {
   "cell_type": "code",
   "execution_count": 31,
   "id": "1912f7c6",
   "metadata": {},
   "outputs": [
    {
     "data": {
      "text/html": [
       "<div>\n",
       "<style scoped>\n",
       "    .dataframe tbody tr th:only-of-type {\n",
       "        vertical-align: middle;\n",
       "    }\n",
       "\n",
       "    .dataframe tbody tr th {\n",
       "        vertical-align: top;\n",
       "    }\n",
       "\n",
       "    .dataframe thead th {\n",
       "        text-align: right;\n",
       "    }\n",
       "</style>\n",
       "<table border=\"1\" class=\"dataframe\">\n",
       "  <thead>\n",
       "    <tr style=\"text-align: right;\">\n",
       "      <th></th>\n",
       "      <th>cabin_know</th>\n",
       "      <th>Survived</th>\n",
       "    </tr>\n",
       "    <tr>\n",
       "      <th>cabin_know</th>\n",
       "      <th></th>\n",
       "      <th></th>\n",
       "    </tr>\n",
       "  </thead>\n",
       "  <tbody>\n",
       "    <tr>\n",
       "      <th>0</th>\n",
       "      <td>0.0</td>\n",
       "      <td>0.299854</td>\n",
       "    </tr>\n",
       "    <tr>\n",
       "      <th>1</th>\n",
       "      <td>1.0</td>\n",
       "      <td>0.666667</td>\n",
       "    </tr>\n",
       "  </tbody>\n",
       "</table>\n",
       "</div>"
      ],
      "text/plain": [
       "            cabin_know  Survived\n",
       "cabin_know                      \n",
       "0                  0.0  0.299854\n",
       "1                  1.0  0.666667"
      ]
     },
     "execution_count": 31,
     "metadata": {},
     "output_type": "execute_result"
    }
   ],
   "source": [
    "data.groupby(by='cabin_know')[['cabin_know','Survived']].mean()"
   ]
  },
  {
   "cell_type": "code",
   "execution_count": 32,
   "id": "98a2df1a",
   "metadata": {},
   "outputs": [],
   "source": [
    "\n",
    "family=[]\n",
    "\n",
    "for row in data.iterrows():\n",
    "    family.append(row[1]['SibSp']+row[1]['Parch'])\n",
    "data['family']=family\n",
    "                              "
   ]
  },
  {
   "cell_type": "code",
   "execution_count": 33,
   "id": "783c4aea",
   "metadata": {},
   "outputs": [
    {
     "data": {
      "text/plain": [
       "<AxesSubplot:xlabel='Age', ylabel='Count'>"
      ]
     },
     "execution_count": 33,
     "metadata": {},
     "output_type": "execute_result"
    },
    {
     "data": {
      "image/png": "[encoded data removed]",
      "text/plain": [
       "<Figure size 640x480 with 1 Axes>"
      ]
     },
     "metadata": {},
     "output_type": "display_data"
    }
   ],
   "source": [
    "sns.histplot(data=data,x='Age', hue='Survived',bins=[0,13,18,40,60,80])"
   ]
  },
  {
   "cell_type": "code",
   "execution_count": 34,
   "id": "68241ee6",
   "metadata": {},
   "outputs": [],
   "source": [
    "data['children']=(data['Age']<13).astype(int)   # one-hot encoding\n",
    "data['adoloscents']=((data['Age']>=13) & (data['Age']<18)).astype(int)\n",
    "data['Adults']=((data['Age']>=18) & (data['Age']<40)).astype(int)\n",
    "data['MiddleAged']=((data['Age']>=40) & (data['Age']<60)).astype(int)\n",
    "data['OldAdults']=((data['Age']>=60)).astype(int)\n"
   ]
  },
  {
   "cell_type": "code",
   "execution_count": 35,
   "id": "00b2277a",
   "metadata": {},
   "outputs": [
    {
     "data": {
      "image/png": "[encoded data removed]",
      "text/plain": [
       "<Figure size 600x600 with 1 Axes>"
      ]
     },
     "metadata": {},
     "output_type": "display_data"
    }
   ],
   "source": [
    "plt.figure(figsize=(6,6))\n",
    "\n",
    "fig=sns.histplot(train, x='Fare', hue='Survived', bins=[0,50,150,600])\n",
    "fig.set_ylim=(0,500)"
   ]
  },
  {
   "cell_type": "code",
   "execution_count": 36,
   "id": "840f6338",
   "metadata": {},
   "outputs": [],
   "source": [
    "data['lowfare']=(data['Fare']<50).astype(int)   # one-hot encoding\n",
    "data['midfare']=((data['Fare']>=50) & (data['Age']<150)).astype(int)\n",
    "data['highfare']=(data['Fare']>=150).astype(int)"
   ]
  },
  {
   "cell_type": "code",
   "execution_count": 37,
   "id": "21ec2ddd",
   "metadata": {},
   "outputs": [
    {
     "data": {
      "text/plain": [
       "Index(['PassengerId', 'Survived', 'Pclass', 'Name', 'Sex', 'Age', 'SibSp',\n",
       "       'Parch', 'Ticket', 'Fare', 'Cabin', 'Embarked', 'Surname', 'cabin_grp',\n",
       "       'cabin_know', 'family', 'children', 'adoloscents', 'Adults',\n",
       "       'MiddleAged', 'OldAdults', 'lowfare', 'midfare', 'highfare'],\n",
       "      dtype='object')"
      ]
     },
     "execution_count": 37,
     "metadata": {},
     "output_type": "execute_result"
    }
   ],
   "source": [
    "data.columns\n"
   ]
  },
  {
   "cell_type": "code",
   "execution_count": 38,
   "id": "ec6b2287",
   "metadata": {},
   "outputs": [
    {
     "data": {
      "text/plain": [
       "PassengerId      0\n",
       "Survived         0\n",
       "Pclass           0\n",
       "Name             0\n",
       "Sex              0\n",
       "Age            177\n",
       "SibSp            0\n",
       "Parch            0\n",
       "Ticket           0\n",
       "Fare             0\n",
       "Cabin          687\n",
       "Embarked         0\n",
       "Surname          0\n",
       "cabin_grp        0\n",
       "cabin_know       0\n",
       "family           0\n",
       "children         0\n",
       "adoloscents      0\n",
       "Adults           0\n",
       "MiddleAged       0\n",
       "OldAdults        0\n",
       "lowfare          0\n",
       "midfare          0\n",
       "highfare         0\n",
       "dtype: int64"
      ]
     },
     "execution_count": 38,
     "metadata": {},
     "output_type": "execute_result"
    }
   ],
   "source": [
    "# fill embarked na values with mode, here S\n",
    "data['Embarked'].fillna('S', inplace=True)\n",
    "data.isnull().sum()"
   ]
  },
  {
   "cell_type": "code",
   "execution_count": 39,
   "id": "90ae7b73",
   "metadata": {},
   "outputs": [
    {
     "data": {
      "text/html": [
       "<div>\n",
       "<style scoped>\n",
       "    .dataframe tbody tr th:only-of-type {\n",
       "        vertical-align: middle;\n",
       "    }\n",
       "\n",
       "    .dataframe tbody tr th {\n",
       "        vertical-align: top;\n",
       "    }\n",
       "\n",
       "    .dataframe thead th {\n",
       "        text-align: right;\n",
       "    }\n",
       "</style>\n",
       "<table border=\"1\" class=\"dataframe\">\n",
       "  <thead>\n",
       "    <tr style=\"text-align: right;\">\n",
       "      <th></th>\n",
       "      <th></th>\n",
       "      <th></th>\n",
       "      <th>Age</th>\n",
       "    </tr>\n",
       "    <tr>\n",
       "      <th>Embarked</th>\n",
       "      <th>Sex</th>\n",
       "      <th>Pclass</th>\n",
       "      <th></th>\n",
       "    </tr>\n",
       "  </thead>\n",
       "  <tbody>\n",
       "    <tr>\n",
       "      <th rowspan=\"6\" valign=\"top\">C</th>\n",
       "      <th rowspan=\"3\" valign=\"top\">female</th>\n",
       "      <th>1</th>\n",
       "      <td>37.00</td>\n",
       "    </tr>\n",
       "    <tr>\n",
       "      <th>2</th>\n",
       "      <td>22.00</td>\n",
       "    </tr>\n",
       "    <tr>\n",
       "      <th>3</th>\n",
       "      <td>14.25</td>\n",
       "    </tr>\n",
       "    <tr>\n",
       "      <th rowspan=\"3\" valign=\"top\">male</th>\n",
       "      <th>1</th>\n",
       "      <td>36.50</td>\n",
       "    </tr>\n",
       "    <tr>\n",
       "      <th>2</th>\n",
       "      <td>29.50</td>\n",
       "    </tr>\n",
       "    <tr>\n",
       "      <th>3</th>\n",
       "      <td>26.00</td>\n",
       "    </tr>\n",
       "    <tr>\n",
       "      <th rowspan=\"6\" valign=\"top\">Q</th>\n",
       "      <th rowspan=\"3\" valign=\"top\">female</th>\n",
       "      <th>1</th>\n",
       "      <td>33.00</td>\n",
       "    </tr>\n",
       "    <tr>\n",
       "      <th>2</th>\n",
       "      <td>30.00</td>\n",
       "    </tr>\n",
       "    <tr>\n",
       "      <th>3</th>\n",
       "      <td>20.00</td>\n",
       "    </tr>\n",
       "    <tr>\n",
       "      <th rowspan=\"3\" valign=\"top\">male</th>\n",
       "      <th>1</th>\n",
       "      <td>44.00</td>\n",
       "    </tr>\n",
       "    <tr>\n",
       "      <th>2</th>\n",
       "      <td>57.00</td>\n",
       "    </tr>\n",
       "    <tr>\n",
       "      <th>3</th>\n",
       "      <td>27.00</td>\n",
       "    </tr>\n",
       "    <tr>\n",
       "      <th rowspan=\"6\" valign=\"top\">S</th>\n",
       "      <th rowspan=\"3\" valign=\"top\">female</th>\n",
       "      <th>1</th>\n",
       "      <td>34.00</td>\n",
       "    </tr>\n",
       "    <tr>\n",
       "      <th>2</th>\n",
       "      <td>29.00</td>\n",
       "    </tr>\n",
       "    <tr>\n",
       "      <th>3</th>\n",
       "      <td>23.00</td>\n",
       "    </tr>\n",
       "    <tr>\n",
       "      <th rowspan=\"3\" valign=\"top\">male</th>\n",
       "      <th>1</th>\n",
       "      <td>42.00</td>\n",
       "    </tr>\n",
       "    <tr>\n",
       "      <th>2</th>\n",
       "      <td>30.00</td>\n",
       "    </tr>\n",
       "    <tr>\n",
       "      <th>3</th>\n",
       "      <td>25.00</td>\n",
       "    </tr>\n",
       "  </tbody>\n",
       "</table>\n",
       "</div>"
      ],
      "text/plain": [
       "                          Age\n",
       "Embarked Sex    Pclass       \n",
       "C        female 1       37.00\n",
       "                2       22.00\n",
       "                3       14.25\n",
       "         male   1       36.50\n",
       "                2       29.50\n",
       "                3       26.00\n",
       "Q        female 1       33.00\n",
       "                2       30.00\n",
       "                3       20.00\n",
       "         male   1       44.00\n",
       "                2       57.00\n",
       "                3       27.00\n",
       "S        female 1       34.00\n",
       "                2       29.00\n",
       "                3       23.00\n",
       "         male   1       42.00\n",
       "                2       30.00\n",
       "                3       25.00"
      ]
     },
     "execution_count": 39,
     "metadata": {},
     "output_type": "execute_result"
    }
   ],
   "source": [
    "asep_age= data.groupby(by=['Embarked','Sex','Pclass'])[['Age']].median()\n",
    "\n",
    "asep_age"
   ]
  },
  {
   "cell_type": "code",
   "execution_count": 40,
   "id": "f6ffd765",
   "metadata": {},
   "outputs": [],
   "source": [
    "## there seeems to be a pattern for age, male age is higher than female always\n",
    "## the avg age seems to increase as Pclass becomes higher(1) except for for male person sitting in Pclass 2 from Q dock\n",
    "## avg age for C>S>Q but if we go into sex and pclass then it bcomes complicated \n",
    "## if we find mean of ages based on all 3 qualitative factors then it might lead to overfitting\n",
    "## let us try it "
   ]
  },
  {
   "cell_type": "code",
   "execution_count": 41,
   "id": "d6eb6668",
   "metadata": {},
   "outputs": [
    {
     "data": {
      "text/plain": [
       "PassengerId      0\n",
       "Survived         0\n",
       "Pclass           0\n",
       "Name             0\n",
       "Sex              0\n",
       "Age              0\n",
       "SibSp            0\n",
       "Parch            0\n",
       "Ticket           0\n",
       "Fare             0\n",
       "Cabin          687\n",
       "Embarked         0\n",
       "Surname          0\n",
       "cabin_grp        0\n",
       "cabin_know       0\n",
       "family           0\n",
       "children         0\n",
       "adoloscents      0\n",
       "Adults           0\n",
       "MiddleAged       0\n",
       "OldAdults        0\n",
       "lowfare          0\n",
       "midfare          0\n",
       "highfare         0\n",
       "dtype: int64"
      ]
     },
     "execution_count": 41,
     "metadata": {},
     "output_type": "execute_result"
    }
   ],
   "source": [
    "\n",
    "age_na_rows=data.loc[data['Age'].isna(),'Age'].index\n",
    "\n",
    "for row in data.loc[age_na_rows,['Age','Embarked','Sex','Pclass']].iterrows():\n",
    "    dock=row[1]['Embarked']\n",
    "    sex=row[1]['Sex']\n",
    "    pclass=row[1]['Pclass']\n",
    "    data.loc[age_na_rows,'Age']=asep_age.loc[(dock,sex,pclass),'Age']\n",
    "data.isnull().sum()"
   ]
  },
  {
   "cell_type": "code",
   "execution_count": 42,
   "id": "5dbc1079",
   "metadata": {},
   "outputs": [],
   "source": [
    "#update agegrps after filling missing values for age\n",
    "data['children']=(data['Age']<13).astype(int)   # one-hot encoding\n",
    "data['adoloscents']=((data['Age']>=13) & (data['Age']<18)).astype(int)\n",
    "data['Adults']=((data['Age']>=18) & (data['Age']<40)).astype(int)\n",
    "data['MiddleAged']=((data['Age']>=40) & (data['Age']<60)).astype(int)\n",
    "data['OldAdults']=((data['Age']>=60)).astype(int)\n"
   ]
  },
  {
   "cell_type": "code",
   "execution_count": 43,
   "id": "a806c09a",
   "metadata": {},
   "outputs": [],
   "source": [
    "# insert missing values for test data"
   ]
  },
  {
   "cell_type": "code",
   "execution_count": 44,
   "id": "75c7507e",
   "metadata": {},
   "outputs": [
    {
     "data": {
      "text/plain": [
       "PassengerId      0\n",
       "Pclass           0\n",
       "Name             0\n",
       "Sex              0\n",
       "Age             86\n",
       "SibSp            0\n",
       "Parch            0\n",
       "Ticket           0\n",
       "Fare             1\n",
       "Cabin          327\n",
       "Embarked         0\n",
       "dtype: int64"
      ]
     },
     "execution_count": 44,
     "metadata": {},
     "output_type": "execute_result"
    }
   ],
   "source": [
    "test.isnull().sum()"
   ]
  },
  {
   "cell_type": "code",
   "execution_count": 45,
   "id": "24ae6feb",
   "metadata": {},
   "outputs": [
    {
     "data": {
      "text/html": [
       "<div>\n",
       "<style scoped>\n",
       "    .dataframe tbody tr th:only-of-type {\n",
       "        vertical-align: middle;\n",
       "    }\n",
       "\n",
       "    .dataframe tbody tr th {\n",
       "        vertical-align: top;\n",
       "    }\n",
       "\n",
       "    .dataframe thead th {\n",
       "        text-align: right;\n",
       "    }\n",
       "</style>\n",
       "<table border=\"1\" class=\"dataframe\">\n",
       "  <thead>\n",
       "    <tr style=\"text-align: right;\">\n",
       "      <th></th>\n",
       "      <th>PassengerId</th>\n",
       "      <th>Pclass</th>\n",
       "      <th>Name</th>\n",
       "      <th>Sex</th>\n",
       "      <th>Age</th>\n",
       "      <th>SibSp</th>\n",
       "      <th>Parch</th>\n",
       "      <th>Ticket</th>\n",
       "      <th>Fare</th>\n",
       "      <th>Cabin</th>\n",
       "      <th>Embarked</th>\n",
       "    </tr>\n",
       "  </thead>\n",
       "  <tbody>\n",
       "    <tr>\n",
       "      <th>152</th>\n",
       "      <td>1044</td>\n",
       "      <td>3</td>\n",
       "      <td>Storey, Mr. Thomas</td>\n",
       "      <td>male</td>\n",
       "      <td>60.5</td>\n",
       "      <td>0</td>\n",
       "      <td>0</td>\n",
       "      <td>3701</td>\n",
       "      <td>NaN</td>\n",
       "      <td>NaN</td>\n",
       "      <td>S</td>\n",
       "    </tr>\n",
       "  </tbody>\n",
       "</table>\n",
       "</div>"
      ],
      "text/plain": [
       "     PassengerId  Pclass                Name   Sex   Age  SibSp  Parch Ticket  \\\n",
       "152         1044       3  Storey, Mr. Thomas  male  60.5      0      0   3701   \n",
       "\n",
       "     Fare Cabin Embarked  \n",
       "152   NaN   NaN        S  "
      ]
     },
     "execution_count": 45,
     "metadata": {},
     "output_type": "execute_result"
    }
   ],
   "source": [
    "test.loc[test[['Fare']].isnull().any(axis=1)]"
   ]
  },
  {
   "cell_type": "code",
   "execution_count": 46,
   "id": "6a13bac9",
   "metadata": {},
   "outputs": [],
   "source": [
    "avg_fare=data.groupby(by=['Embarked','Sex','Pclass'])[['Fare']].mean()\n",
    "test.loc[(test[['Fare']].isnull().any(axis=1)),'Fare'] = avg_fare.loc[('S','male',3),:][0]"
   ]
  },
  {
   "cell_type": "code",
   "execution_count": 47,
   "id": "000db1c0",
   "metadata": {},
   "outputs": [
    {
     "data": {
      "text/plain": [
       "PassengerId      0\n",
       "Pclass           0\n",
       "Name             0\n",
       "Sex              0\n",
       "Age             86\n",
       "SibSp            0\n",
       "Parch            0\n",
       "Ticket           0\n",
       "Fare             0\n",
       "Cabin          327\n",
       "Embarked         0\n",
       "dtype: int64"
      ]
     },
     "execution_count": 47,
     "metadata": {},
     "output_type": "execute_result"
    }
   ],
   "source": [
    "test.isnull().sum()"
   ]
  },
  {
   "cell_type": "code",
   "execution_count": 48,
   "id": "7bb86f2d",
   "metadata": {},
   "outputs": [
    {
     "data": {
      "text/plain": [
       "PassengerId      0\n",
       "Pclass           0\n",
       "Name             0\n",
       "Sex              0\n",
       "Age              0\n",
       "SibSp            0\n",
       "Parch            0\n",
       "Ticket           0\n",
       "Fare             0\n",
       "Cabin          327\n",
       "Embarked         0\n",
       "dtype: int64"
      ]
     },
     "execution_count": 48,
     "metadata": {},
     "output_type": "execute_result"
    }
   ],
   "source": [
    "test_asep_age= test.groupby(by=['Embarked','Sex','Pclass'])[['Age']].median()\n",
    "\n",
    "test_age_na_rows=test.loc[test['Age'].isna(),'Age'].index\n",
    "\n",
    "for row in test.loc[test_age_na_rows,['Age','Embarked','Sex','Pclass']].iterrows():\n",
    "    dock=row[1]['Embarked']\n",
    "    sex=row[1]['Sex']\n",
    "    pclass=row[1]['Pclass']\n",
    "    test.loc[test_age_na_rows,'Age']=test_asep_age.loc[(dock,sex,pclass),'Age']\n",
    "test.isnull().sum()"
   ]
  },
  {
   "cell_type": "code",
   "execution_count": 49,
   "id": "8fbb2b65",
   "metadata": {},
   "outputs": [],
   "source": [
    "test['children']=(test['Age']<13).astype(int)   # one-hot encoding\n",
    "test['adoloscents']=((test['Age']>=13) & (test['Age']<18)).astype(int)\n",
    "test['Adults']=((test['Age']>=18) & (test['Age']<40)).astype(int)\n",
    "test['MiddleAged']=((test['Age']>=40) & (test['Age']<60)).astype(int)\n",
    "test['OldAdults']=((test['Age']>=60)).astype(int)"
   ]
  },
  {
   "cell_type": "code",
   "execution_count": 50,
   "id": "e6574a7f",
   "metadata": {},
   "outputs": [
    {
     "data": {
      "text/plain": [
       "PassengerId      0\n",
       "Pclass           0\n",
       "Name             0\n",
       "Sex              0\n",
       "Age              0\n",
       "SibSp            0\n",
       "Parch            0\n",
       "Ticket           0\n",
       "Fare             0\n",
       "Cabin          327\n",
       "Embarked         0\n",
       "children         0\n",
       "adoloscents      0\n",
       "Adults           0\n",
       "MiddleAged       0\n",
       "OldAdults        0\n",
       "dtype: int64"
      ]
     },
     "execution_count": 50,
     "metadata": {},
     "output_type": "execute_result"
    }
   ],
   "source": [
    "test.isnull().sum()"
   ]
  },
  {
   "cell_type": "code",
   "execution_count": 51,
   "id": "3199ac2f",
   "metadata": {},
   "outputs": [
    {
     "data": {
      "text/plain": [
       "PassengerId      0\n",
       "Pclass           0\n",
       "Name             0\n",
       "Sex              0\n",
       "Age              0\n",
       "SibSp            0\n",
       "Parch            0\n",
       "Ticket           0\n",
       "Fare             0\n",
       "Cabin          327\n",
       "Embarked         0\n",
       "children         0\n",
       "adoloscents      0\n",
       "Adults           0\n",
       "MiddleAged       0\n",
       "OldAdults        0\n",
       "cabin_know       0\n",
       "dtype: int64"
      ]
     },
     "execution_count": 51,
     "metadata": {},
     "output_type": "execute_result"
    }
   ],
   "source": [
    "grp1=[]\n",
    "for i,row in enumerate(test['Cabin']):\n",
    "        if type(row)==float:\n",
    "            grp1.append(0)\n",
    "        elif type(row)==str:\n",
    "            grp1.append(1)\n",
    "test['cabin_know']=grp1\n",
    "test.isnull().sum()"
   ]
  },
  {
   "cell_type": "code",
   "execution_count": 52,
   "id": "1843c238",
   "metadata": {},
   "outputs": [],
   "source": [
    "test['lowfare']=(test['Fare']<50).astype(int)   # one-hot encoding\n",
    "test['midfare']=((test['Fare']>=50) & (test['Age']<150)).astype(int)\n",
    "test['highfare']=(test['Fare']>=150).astype(int)"
   ]
  },
  {
   "cell_type": "code",
   "execution_count": 53,
   "id": "e859138c",
   "metadata": {},
   "outputs": [],
   "source": [
    "family=[]\n",
    "\n",
    "for row in test.iterrows():\n",
    "    family.append(row[1]['SibSp']+row[1]['Parch'])\n",
    "test['family']=family\n",
    "                       "
   ]
  },
  {
   "cell_type": "code",
   "execution_count": 54,
   "id": "babbb823",
   "metadata": {},
   "outputs": [
    {
     "data": {
      "text/plain": [
       "Index(['PassengerId', 'Pclass', 'Name', 'Sex', 'Age', 'SibSp', 'Parch',\n",
       "       'Ticket', 'Fare', 'Cabin', 'Embarked', 'children', 'adoloscents',\n",
       "       'Adults', 'MiddleAged', 'OldAdults', 'cabin_know', 'lowfare', 'midfare',\n",
       "       'highfare', 'family'],\n",
       "      dtype='object')"
      ]
     },
     "execution_count": 54,
     "metadata": {},
     "output_type": "execute_result"
    }
   ],
   "source": [
    "test.columns"
   ]
  },
  {
   "cell_type": "code",
   "execution_count": 55,
   "id": "8741f4ac",
   "metadata": {},
   "outputs": [],
   "source": [
    "## ready our train and test data"
   ]
  },
  {
   "cell_type": "code",
   "execution_count": 56,
   "id": "26031493",
   "metadata": {},
   "outputs": [],
   "source": [
    "X=data.copy()\n",
    "X_test=test.copy()"
   ]
  },
  {
   "cell_type": "code",
   "execution_count": 57,
   "id": "a6f2700e",
   "metadata": {},
   "outputs": [],
   "source": [
    "#lets frop sibsp and parch for now\n",
    "X.drop(columns=['PassengerId', 'Survived', 'Name', 'Age', 'SibSp',\n",
    "       'Parch', 'Ticket', 'Fare', 'Cabin', 'Surname', 'cabin_grp'], inplace=True)\n"
   ]
  },
  {
   "cell_type": "code",
   "execution_count": 58,
   "id": "105ae869",
   "metadata": {},
   "outputs": [
    {
     "data": {
      "text/plain": [
       "Index(['Pclass', 'Sex', 'Embarked', 'cabin_know', 'family', 'children',\n",
       "       'adoloscents', 'Adults', 'MiddleAged', 'OldAdults', 'lowfare',\n",
       "       'midfare', 'highfare'],\n",
       "      dtype='object')"
      ]
     },
     "execution_count": 58,
     "metadata": {},
     "output_type": "execute_result"
    }
   ],
   "source": [
    "X.columns"
   ]
  },
  {
   "cell_type": "code",
   "execution_count": 59,
   "id": "f08d5541",
   "metadata": {},
   "outputs": [],
   "source": [
    "X_test.drop(columns=['PassengerId', 'Name', 'Age', 'SibSp',\n",
    "       'Parch', 'Ticket', 'Fare', 'Cabin'], inplace=True)"
   ]
  },
  {
   "cell_type": "code",
   "execution_count": 60,
   "id": "e3fa0e14",
   "metadata": {},
   "outputs": [
    {
     "data": {
      "text/plain": [
       "Index(['Pclass', 'Sex', 'Embarked', 'children', 'adoloscents', 'Adults',\n",
       "       'MiddleAged', 'OldAdults', 'cabin_know', 'lowfare', 'midfare',\n",
       "       'highfare', 'family'],\n",
       "      dtype='object')"
      ]
     },
     "execution_count": 60,
     "metadata": {},
     "output_type": "execute_result"
    }
   ],
   "source": [
    "X_test.columns"
   ]
  },
  {
   "cell_type": "code",
   "execution_count": 61,
   "id": "14e478e9",
   "metadata": {},
   "outputs": [
    {
     "data": {
      "text/plain": [
       "Pclass          int64\n",
       "Sex            object\n",
       "Embarked       object\n",
       "cabin_know      int64\n",
       "family          int64\n",
       "children        int32\n",
       "adoloscents     int32\n",
       "Adults          int32\n",
       "MiddleAged      int32\n",
       "OldAdults       int32\n",
       "lowfare         int32\n",
       "midfare         int32\n",
       "highfare        int32\n",
       "dtype: object"
      ]
     },
     "execution_count": 61,
     "metadata": {},
     "output_type": "execute_result"
    }
   ],
   "source": [
    "X.dtypes"
   ]
  },
  {
   "cell_type": "code",
   "execution_count": 62,
   "id": "c53feda3",
   "metadata": {},
   "outputs": [],
   "source": [
    "\n",
    "X['Pclass']=X['Pclass'].astype(str)\n",
    "X=pd.get_dummies(X)\n"
   ]
  },
  {
   "cell_type": "code",
   "execution_count": 63,
   "id": "2c2d9989",
   "metadata": {},
   "outputs": [
    {
     "data": {
      "text/plain": [
       "cabin_know     float64\n",
       "family         float64\n",
       "children       float64\n",
       "adoloscents    float64\n",
       "Adults         float64\n",
       "MiddleAged     float64\n",
       "OldAdults      float64\n",
       "lowfare        float64\n",
       "midfare        float64\n",
       "highfare       float64\n",
       "Pclass_1       float64\n",
       "Pclass_2       float64\n",
       "Pclass_3       float64\n",
       "Sex_female     float64\n",
       "Sex_male       float64\n",
       "Embarked_C     float64\n",
       "Embarked_Q     float64\n",
       "Embarked_S     float64\n",
       "dtype: object"
      ]
     },
     "execution_count": 63,
     "metadata": {},
     "output_type": "execute_result"
    }
   ],
   "source": [
    "X=X.astype('float64')\n",
    "X.dtypes"
   ]
  },
  {
   "cell_type": "code",
   "execution_count": 64,
   "id": "ad6f6616",
   "metadata": {},
   "outputs": [
    {
     "data": {
      "text/plain": [
       "children       float64\n",
       "adoloscents    float64\n",
       "Adults         float64\n",
       "MiddleAged     float64\n",
       "OldAdults      float64\n",
       "cabin_know     float64\n",
       "lowfare        float64\n",
       "midfare        float64\n",
       "highfare       float64\n",
       "family         float64\n",
       "Pclass_1       float64\n",
       "Pclass_2       float64\n",
       "Pclass_3       float64\n",
       "Sex_female     float64\n",
       "Sex_male       float64\n",
       "Embarked_C     float64\n",
       "Embarked_Q     float64\n",
       "Embarked_S     float64\n",
       "dtype: object"
      ]
     },
     "execution_count": 64,
     "metadata": {},
     "output_type": "execute_result"
    }
   ],
   "source": [
    "\n",
    "X_test['Pclass']=X_test['Pclass'].astype(str)\n",
    "X_test=pd.get_dummies(X_test)\n",
    "X_test=X_test.astype('float64')\n",
    "X_test.dtypes\n"
   ]
  },
  {
   "cell_type": "code",
   "execution_count": 65,
   "id": "d2915d9e",
   "metadata": {},
   "outputs": [],
   "source": [
    "from sklearn import preprocessing\n",
    "from sklearn.preprocessing import StandardScaler\n",
    "from sklearn.model_selection import train_test_split, GridSearchCV,StratifiedKFold\n",
    "from sklearn.metrics import r2_score\n",
    "\n",
    "from sklearn.tree import DecisionTreeClassifier\n",
    "from sklearn.linear_model import LogisticRegression\n",
    "from sklearn.neighbors import KNeighborsClassifier\n",
    "from sklearn.svm import SVC\n",
    "from sklearn.ensemble import RandomForestClassifier\n",
    "import time"
   ]
  },
  {
   "cell_type": "code",
   "execution_count": 66,
   "id": "6f29832d",
   "metadata": {},
   "outputs": [],
   "source": [
    "classifiers = {\n",
    "    \"LogisticRegression\" : LogisticRegression(random_state=0),\n",
    "    \"KNN\" : KNeighborsClassifier(),\n",
    "    \"SVC\" : SVC(random_state=0, probability=True),\n",
    "    \"DecisionTreeClassifier\" : DecisionTreeClassifier(random_state=0),\n",
    "    \n",
    "}\n",
    "LR_grid = {'penalty': ['l1','l2'],\n",
    "           'C': [0.25, 0.5, 0.75, 1, 1.25, 1.5],\n",
    "           'max_iter': [50, 100, 150]}\n",
    "\n",
    "KNN_grid = {'n_neighbors': [3, 5, 7, 9],\n",
    "            'p': [1, 2]}\n",
    "\n",
    "SVC_grid = {'C': [0.25, 0.5, 0.75, 1, 1.25, 1.5],\n",
    "            'kernel': ['linear', 'rbf'],\n",
    "            'gamma': ['scale', 'auto']}\n",
    "\n",
    "Tree_grid = {'criterion': ['gini', 'entropy'],\n",
    "     'splitter': ['best', 'random'],\n",
    "     'max_depth': [2*n for n in range(1,10)],\n",
    "     'max_features': ['auto', 'sqrt'],\n",
    "     'min_samples_leaf': [1, 2, 4],\n",
    "     'min_samples_split': [2, 5, 10]}\n",
    "grid = {\n",
    "    \"LogisticRegression\" : LR_grid,\n",
    "    \"KNN\" : KNN_grid,\n",
    "    \"SVC\" : SVC_grid,\n",
    "    \"DecisionTreeClassifier\" : Tree_grid,\n",
    "}"
   ]
  },
  {
   "cell_type": "code",
   "execution_count": 67,
   "id": "a6a6a117",
   "metadata": {},
   "outputs": [
    {
     "data": {
      "text/plain": [
       "0    549\n",
       "1    342\n",
       "Name: Survived, dtype: int64"
      ]
     },
     "execution_count": 67,
     "metadata": {},
     "output_type": "execute_result"
    }
   ],
   "source": [
    "Y=data.copy()\n",
    "Y=Y['Survived']\n",
    "Y.value_counts()"
   ]
  },
  {
   "cell_type": "code",
   "execution_count": 68,
   "id": "4015e48e",
   "metadata": {},
   "outputs": [],
   "source": [
    "X_train, X_valid, Y_train, Y_valid = train_test_split(X,Y,stratify=Y,train_size=0.8,test_size=0.2,random_state=0)"
   ]
  },
  {
   "cell_type": "code",
   "execution_count": 69,
   "id": "0bbf98a6",
   "metadata": {},
   "outputs": [
    {
     "name": "stderr",
     "output_type": "stream",
     "text": [
      "C:\\ProgramData\\Anaconda3\\lib\\site-packages\\sklearn\\model_selection\\_validation.py:372: FitFailedWarning: \n",
      "90 fits failed out of a total of 180.\n",
      "The score on these train-test partitions for these parameters will be set to nan.\n",
      "If these failures are not expected, you can try to debug them by setting error_score='raise'.\n",
      "\n",
      "Below are more details about the failures:\n",
      "--------------------------------------------------------------------------------\n",
      "90 fits failed with the following error:\n",
      "Traceback (most recent call last):\n",
      "  File \"C:\\ProgramData\\Anaconda3\\lib\\site-packages\\sklearn\\model_selection\\_validation.py\", line 680, in _fit_and_score\n",
      "    estimator.fit(X_train, y_train, **fit_params)\n",
      "  File \"C:\\ProgramData\\Anaconda3\\lib\\site-packages\\sklearn\\linear_model\\_logistic.py\", line 1461, in fit\n",
      "    solver = _check_solver(self.solver, self.penalty, self.dual)\n",
      "  File \"C:\\ProgramData\\Anaconda3\\lib\\site-packages\\sklearn\\linear_model\\_logistic.py\", line 447, in _check_solver\n",
      "    raise ValueError(\n",
      "ValueError: Solver lbfgs supports only 'l2' or 'none' penalties, got l1 penalty.\n",
      "\n",
      "  warnings.warn(some_fits_failed_message, FitFailedWarning)\n",
      "C:\\ProgramData\\Anaconda3\\lib\\site-packages\\sklearn\\model_selection\\_search.py:969: UserWarning: One or more of the test scores are non-finite: [       nan 0.80054171        nan 0.80054171        nan 0.80054171\n",
      "        nan 0.79775436        nan 0.79775436        nan 0.79775436\n",
      "        nan 0.79635576        nan 0.79635576        nan 0.79635576\n",
      "        nan 0.79635576        nan 0.79635576        nan 0.79635576\n",
      "        nan 0.79917266        nan 0.79917266        nan 0.79917266\n",
      "        nan 0.80057126        nan 0.80057126        nan 0.80057126]\n",
      "  warnings.warn(\n",
      "C:\\ProgramData\\Anaconda3\\lib\\site-packages\\sklearn\\linear_model\\_logistic.py:814: ConvergenceWarning: lbfgs failed to converge (status=1):\n",
      "STOP: TOTAL NO. of ITERATIONS REACHED LIMIT.\n",
      "\n",
      "Increase the number of iterations (max_iter) or scale the data as shown in:\n",
      "    https://scikit-learn.org/stable/modules/preprocessing.html\n",
      "Please also refer to the documentation for alternative solver options:\n",
      "    https://scikit-learn.org/stable/modules/linear_model.html#logistic-regression\n",
      "  n_iter_i = _check_optimize_result(\n"
     ]
    },
    {
     "name": "stdout",
     "output_type": "stream",
     "text": [
      "Model: LogisticRegression\n",
      "Training time (mins): 0.18\n",
      "\n"
     ]
    },
    {
     "name": "stderr",
     "output_type": "stream",
     "text": [
      "C:\\ProgramData\\Anaconda3\\lib\\site-packages\\sklearn\\neighbors\\_classification.py:228: FutureWarning: Unlike other reduction functions (e.g. `skew`, `kurtosis`), the default behavior of `mode` typically preserves the axis it acts along. In SciPy 1.11.0, this behavior will change: the default value of `keepdims` will become False, the `axis` over which the statistic is taken will be eliminated, and the value None will no longer be accepted. Set `keepdims` to True or False to avoid this warning.\n",
      "  mode, _ = stats.mode(_y[neigh_ind, k], axis=1)\n"
     ]
    },
    {
     "name": "stdout",
     "output_type": "stream",
     "text": [
      "Model: KNN\n",
      "Training time (mins): 0.01\n",
      "\n",
      "Model: SVC\n",
      "Training time (mins): 0.05\n",
      "\n",
      "Model: DecisionTreeClassifier\n",
      "Training time (mins): 0.1\n",
      "\n"
     ]
    }
   ],
   "source": [
    "i=0\n",
    "clf_best_params=classifiers.copy()\n",
    "valid_scores=pd.DataFrame({'Classifer':classifiers.keys(), 'Validation accuracy': np.zeros(len(classifiers)), 'Training time': np.zeros(len(classifiers))})\n",
    "for key, classifier in classifiers.items():\n",
    "    start = time.time()\n",
    "    clf = GridSearchCV(estimator=classifier, param_grid=grid[key], n_jobs=-1, cv=None)\n",
    "\n",
    "    # Train and score\n",
    "    clf.fit(X_train, Y_train)\n",
    "    valid_scores.iloc[i,1]=clf.score(X_valid,Y_valid)\n",
    "\n",
    "    # Save trained model\n",
    "    clf_best_params[key]=clf.best_params_\n",
    "    \n",
    "    # Print iteration and training time\n",
    "    stop = time.time()\n",
    "    valid_scores.iloc[i,2]=np.round((stop - start)/60, 2)\n",
    "    \n",
    "    print('Model:', key)\n",
    "    print('Training time (mins):', valid_scores.iloc[i,2])\n",
    "    print('')\n",
    "    i+=1"
   ]
  },
  {
   "cell_type": "code",
   "execution_count": 70,
   "id": "a87de4eb",
   "metadata": {},
   "outputs": [
    {
     "data": {
      "text/html": [
       "<div>\n",
       "<style scoped>\n",
       "    .dataframe tbody tr th:only-of-type {\n",
       "        vertical-align: middle;\n",
       "    }\n",
       "\n",
       "    .dataframe tbody tr th {\n",
       "        vertical-align: top;\n",
       "    }\n",
       "\n",
       "    .dataframe thead th {\n",
       "        text-align: right;\n",
       "    }\n",
       "</style>\n",
       "<table border=\"1\" class=\"dataframe\">\n",
       "  <thead>\n",
       "    <tr style=\"text-align: right;\">\n",
       "      <th></th>\n",
       "      <th>Classifer</th>\n",
       "      <th>Validation accuracy</th>\n",
       "      <th>Training time</th>\n",
       "    </tr>\n",
       "  </thead>\n",
       "  <tbody>\n",
       "    <tr>\n",
       "      <th>0</th>\n",
       "      <td>LogisticRegression</td>\n",
       "      <td>0.776536</td>\n",
       "      <td>0.18</td>\n",
       "    </tr>\n",
       "    <tr>\n",
       "      <th>1</th>\n",
       "      <td>KNN</td>\n",
       "      <td>0.776536</td>\n",
       "      <td>0.01</td>\n",
       "    </tr>\n",
       "    <tr>\n",
       "      <th>2</th>\n",
       "      <td>SVC</td>\n",
       "      <td>0.810056</td>\n",
       "      <td>0.05</td>\n",
       "    </tr>\n",
       "    <tr>\n",
       "      <th>3</th>\n",
       "      <td>DecisionTreeClassifier</td>\n",
       "      <td>0.804469</td>\n",
       "      <td>0.10</td>\n",
       "    </tr>\n",
       "  </tbody>\n",
       "</table>\n",
       "</div>"
      ],
      "text/plain": [
       "                Classifer  Validation accuracy  Training time\n",
       "0      LogisticRegression             0.776536           0.18\n",
       "1                     KNN             0.776536           0.01\n",
       "2                     SVC             0.810056           0.05\n",
       "3  DecisionTreeClassifier             0.804469           0.10"
      ]
     },
     "execution_count": 70,
     "metadata": {},
     "output_type": "execute_result"
    }
   ],
   "source": [
    "valid_scores"
   ]
  },
  {
   "cell_type": "code",
   "execution_count": 71,
   "id": "809c9687",
   "metadata": {
    "scrolled": true
   },
   "outputs": [
    {
     "data": {
      "text/plain": [
       "{'LogisticRegression': {'C': 1.5, 'max_iter': 50, 'penalty': 'l2'},\n",
       " 'KNN': {'n_neighbors': 3, 'p': 2},\n",
       " 'SVC': {'C': 0.75, 'gamma': 'scale', 'kernel': 'rbf'},\n",
       " 'DecisionTreeClassifier': {'criterion': 'entropy',\n",
       "  'max_depth': 8,\n",
       "  'max_features': 'auto',\n",
       "  'min_samples_leaf': 1,\n",
       "  'min_samples_split': 5,\n",
       "  'splitter': 'best'}}"
      ]
     },
     "execution_count": 71,
     "metadata": {},
     "output_type": "execute_result"
    }
   ],
   "source": [
    "clf_best_params"
   ]
  },
  {
   "cell_type": "code",
   "execution_count": 72,
   "id": "a33aca5c",
   "metadata": {},
   "outputs": [],
   "source": [
    "best_classifiers = {\n",
    "    \"SVC\" : SVC(**clf_best_params[\"SVC\"],random_state=0, probability=True),\n",
    "    \"DecisionTreeClassifier\" : DecisionTreeClassifier(**clf_best_params[\"DecisionTreeClassifier\"], random_state=0)\n",
    "}"
   ]
  },
  {
   "cell_type": "code",
   "execution_count": 73,
   "id": "35bc3f6b",
   "metadata": {},
   "outputs": [
    {
     "data": {
      "text/plain": [
       "GridSearchCV(cv=10, estimator=SVC(C=0.75, probability=True, random_state=0),\n",
       "             param_grid={'C': [0.75], 'gamma': ['scale'], 'kernel': ['rbf']})"
      ]
     },
     "execution_count": 73,
     "metadata": {},
     "output_type": "execute_result"
    }
   ],
   "source": [
    "svm=best_classifiers['SVC']\n",
    "svm_parameters={'C': [0.75], 'gamma': ['scale'], 'kernel': ['rbf']}\n",
    "svm_cv=GridSearchCV(svm,svm_parameters,  cv=10)\n",
    "svm_cv.fit(X_train,Y_train)"
   ]
  },
  {
   "cell_type": "code",
   "execution_count": 74,
   "id": "e0a7d063",
   "metadata": {},
   "outputs": [
    {
     "data": {
      "text/plain": [
       "0.8384831460674157"
      ]
     },
     "execution_count": 74,
     "metadata": {},
     "output_type": "execute_result"
    }
   ],
   "source": [
    "svm_cv.score(X_train,Y_train)"
   ]
  },
  {
   "cell_type": "code",
   "execution_count": 75,
   "id": "51461a5b",
   "metadata": {},
   "outputs": [],
   "source": [
    "svm_preds=svm_cv.predict(X_valid)"
   ]
  },
  {
   "cell_type": "code",
   "execution_count": 76,
   "id": "44a5af1c",
   "metadata": {},
   "outputs": [
    {
     "data": {
      "text/plain": [
       "0.8100558659217877"
      ]
     },
     "execution_count": 76,
     "metadata": {},
     "output_type": "execute_result"
    }
   ],
   "source": [
    "svm_cv.score(X_valid,Y_valid)"
   ]
  },
  {
   "cell_type": "code",
   "execution_count": 77,
   "id": "4e19d6dc",
   "metadata": {},
   "outputs": [
    {
     "data": {
      "text/plain": [
       "0.19815546772068515"
      ]
     },
     "execution_count": 77,
     "metadata": {},
     "output_type": "execute_result"
    }
   ],
   "source": [
    "r2_score(Y_valid, svm_preds)"
   ]
  },
  {
   "cell_type": "code",
   "execution_count": 78,
   "id": "79dfcdea",
   "metadata": {},
   "outputs": [
    {
     "data": {
      "text/plain": [
       "GridSearchCV(cv=10, estimator=DecisionTreeClassifier(random_state=0),\n",
       "             param_grid={'criterion': ['entropy'], 'max_depth': [8],\n",
       "                         'max_features': ['auto'], 'min_samples_leaf': [1],\n",
       "                         'min_samples_split': [5], 'splitter': ['best']})"
      ]
     },
     "execution_count": 78,
     "metadata": {},
     "output_type": "execute_result"
    }
   ],
   "source": [
    "tree_params = {'criterion': ['entropy'],\n",
    "  'max_depth': [8],\n",
    "  'max_features': ['auto'],\n",
    "  'min_samples_leaf': [1],\n",
    "  'min_samples_split': [5],\n",
    "  'splitter': ['best']}\n",
    "tree=DecisionTreeClassifier(random_state=0)\n",
    "tree_cv=GridSearchCV(tree,tree_params,  cv=10)\n",
    "tree_cv.fit(X_train,Y_train)"
   ]
  },
  {
   "cell_type": "code",
   "execution_count": 79,
   "id": "60d22713",
   "metadata": {},
   "outputs": [
    {
     "data": {
      "text/plain": [
       "0.8609550561797753"
      ]
     },
     "execution_count": 79,
     "metadata": {},
     "output_type": "execute_result"
    }
   ],
   "source": [
    "tree_cv.score(X_train,Y_train)"
   ]
  },
  {
   "cell_type": "code",
   "execution_count": 80,
   "id": "627cb8fe",
   "metadata": {},
   "outputs": [
    {
     "data": {
      "text/plain": [
       "0.8044692737430168"
      ]
     },
     "execution_count": 80,
     "metadata": {},
     "output_type": "execute_result"
    }
   ],
   "source": [
    "tree_cv.score(X_valid,Y_valid)"
   ]
  },
  {
   "cell_type": "code",
   "execution_count": 81,
   "id": "e97c8de5",
   "metadata": {},
   "outputs": [],
   "source": [
    "tree_preds=tree_cv.predict(X_valid)"
   ]
  },
  {
   "cell_type": "code",
   "execution_count": 82,
   "id": "561cd17e",
   "metadata": {},
   "outputs": [
    {
     "data": {
      "text/plain": [
       "array([[100,  10],\n",
       "       [ 25,  44]], dtype=int64)"
      ]
     },
     "execution_count": 82,
     "metadata": {},
     "output_type": "execute_result"
    }
   ],
   "source": [
    "from sklearn.metrics import confusion_matrix\n",
    "confusion_matrix(Y_valid,tree_preds)"
   ]
  },
  {
   "cell_type": "code",
   "execution_count": 83,
   "id": "617d87a7",
   "metadata": {},
   "outputs": [
    {
     "data": {
      "text/plain": [
       "array([[97, 13],\n",
       "       [21, 48]], dtype=int64)"
      ]
     },
     "execution_count": 83,
     "metadata": {},
     "output_type": "execute_result"
    }
   ],
   "source": [
    "confusion_matrix(Y_valid,svm_preds)"
   ]
  },
  {
   "cell_type": "code",
   "execution_count": 84,
   "id": "85f959bb",
   "metadata": {},
   "outputs": [
    {
     "data": {
      "text/plain": [
       "Index(['cabin_know', 'family', 'children', 'adoloscents', 'Adults',\n",
       "       'MiddleAged', 'OldAdults', 'lowfare', 'midfare', 'highfare', 'Pclass_1',\n",
       "       'Pclass_2', 'Pclass_3', 'Sex_female', 'Sex_male', 'Embarked_C',\n",
       "       'Embarked_Q', 'Embarked_S'],\n",
       "      dtype='object')"
      ]
     },
     "execution_count": 84,
     "metadata": {},
     "output_type": "execute_result"
    }
   ],
   "source": [
    "X.columns\n"
   ]
  },
  {
   "cell_type": "code",
   "execution_count": 85,
   "id": "f58a98bf",
   "metadata": {},
   "outputs": [],
   "source": [
    "X_test=X_test.loc[:,['cabin_know', 'family', 'children', 'adoloscents', 'Adults',\n",
    "       'MiddleAged', 'OldAdults', 'lowfare', 'midfare', 'highfare', 'Pclass_1',\n",
    "       'Pclass_2', 'Pclass_3', 'Sex_female', 'Sex_male', 'Embarked_C',\n",
    "       'Embarked_Q', 'Embarked_S']]"
   ]
  },
  {
   "cell_type": "code",
   "execution_count": 86,
   "id": "b77c470d",
   "metadata": {},
   "outputs": [],
   "source": [
    "tree_pred_sub=test[['PassengerId']]\n",
    "survived_df=pd.DataFrame({'Survived': list(tree_cv.predict(X_test))})"
   ]
  },
  {
   "cell_type": "code",
   "execution_count": 87,
   "id": "5da7817a",
   "metadata": {},
   "outputs": [],
   "source": [
    "tree_sub=tree_pred_sub.join(survived_df)"
   ]
  },
  {
   "cell_type": "code",
   "execution_count": 88,
   "id": "efb90ee4",
   "metadata": {},
   "outputs": [
    {
     "data": {
      "text/html": [
       "<div>\n",
       "<style scoped>\n",
       "    .dataframe tbody tr th:only-of-type {\n",
       "        vertical-align: middle;\n",
       "    }\n",
       "\n",
       "    .dataframe tbody tr th {\n",
       "        vertical-align: top;\n",
       "    }\n",
       "\n",
       "    .dataframe thead th {\n",
       "        text-align: right;\n",
       "    }\n",
       "</style>\n",
       "<table border=\"1\" class=\"dataframe\">\n",
       "  <thead>\n",
       "    <tr style=\"text-align: right;\">\n",
       "      <th></th>\n",
       "      <th>PassengerId</th>\n",
       "      <th>Survived</th>\n",
       "    </tr>\n",
       "  </thead>\n",
       "  <tbody>\n",
       "    <tr>\n",
       "      <th>0</th>\n",
       "      <td>892</td>\n",
       "      <td>0</td>\n",
       "    </tr>\n",
       "    <tr>\n",
       "      <th>1</th>\n",
       "      <td>893</td>\n",
       "      <td>0</td>\n",
       "    </tr>\n",
       "    <tr>\n",
       "      <th>2</th>\n",
       "      <td>894</td>\n",
       "      <td>0</td>\n",
       "    </tr>\n",
       "    <tr>\n",
       "      <th>3</th>\n",
       "      <td>895</td>\n",
       "      <td>0</td>\n",
       "    </tr>\n",
       "    <tr>\n",
       "      <th>4</th>\n",
       "      <td>896</td>\n",
       "      <td>0</td>\n",
       "    </tr>\n",
       "    <tr>\n",
       "      <th>...</th>\n",
       "      <td>...</td>\n",
       "      <td>...</td>\n",
       "    </tr>\n",
       "    <tr>\n",
       "      <th>413</th>\n",
       "      <td>1305</td>\n",
       "      <td>0</td>\n",
       "    </tr>\n",
       "    <tr>\n",
       "      <th>414</th>\n",
       "      <td>1306</td>\n",
       "      <td>1</td>\n",
       "    </tr>\n",
       "    <tr>\n",
       "      <th>415</th>\n",
       "      <td>1307</td>\n",
       "      <td>0</td>\n",
       "    </tr>\n",
       "    <tr>\n",
       "      <th>416</th>\n",
       "      <td>1308</td>\n",
       "      <td>0</td>\n",
       "    </tr>\n",
       "    <tr>\n",
       "      <th>417</th>\n",
       "      <td>1309</td>\n",
       "      <td>1</td>\n",
       "    </tr>\n",
       "  </tbody>\n",
       "</table>\n",
       "<p>418 rows × 2 columns</p>\n",
       "</div>"
      ],
      "text/plain": [
       "     PassengerId  Survived\n",
       "0            892         0\n",
       "1            893         0\n",
       "2            894         0\n",
       "3            895         0\n",
       "4            896         0\n",
       "..           ...       ...\n",
       "413         1305         0\n",
       "414         1306         1\n",
       "415         1307         0\n",
       "416         1308         0\n",
       "417         1309         1\n",
       "\n",
       "[418 rows x 2 columns]"
      ]
     },
     "execution_count": 88,
     "metadata": {},
     "output_type": "execute_result"
    }
   ],
   "source": [
    "tree_sub"
   ]
  },
  {
   "cell_type": "code",
   "execution_count": 89,
   "id": "b7a61f22",
   "metadata": {},
   "outputs": [
    {
     "data": {
      "text/html": [
       "<div>\n",
       "<style scoped>\n",
       "    .dataframe tbody tr th:only-of-type {\n",
       "        vertical-align: middle;\n",
       "    }\n",
       "\n",
       "    .dataframe tbody tr th {\n",
       "        vertical-align: top;\n",
       "    }\n",
       "\n",
       "    .dataframe thead th {\n",
       "        text-align: right;\n",
       "    }\n",
       "</style>\n",
       "<table border=\"1\" class=\"dataframe\">\n",
       "  <thead>\n",
       "    <tr style=\"text-align: right;\">\n",
       "      <th></th>\n",
       "      <th>PassengerId</th>\n",
       "      <th>Survived</th>\n",
       "    </tr>\n",
       "  </thead>\n",
       "  <tbody>\n",
       "    <tr>\n",
       "      <th>0</th>\n",
       "      <td>892</td>\n",
       "      <td>0</td>\n",
       "    </tr>\n",
       "    <tr>\n",
       "      <th>1</th>\n",
       "      <td>893</td>\n",
       "      <td>1</td>\n",
       "    </tr>\n",
       "    <tr>\n",
       "      <th>2</th>\n",
       "      <td>894</td>\n",
       "      <td>0</td>\n",
       "    </tr>\n",
       "    <tr>\n",
       "      <th>3</th>\n",
       "      <td>895</td>\n",
       "      <td>0</td>\n",
       "    </tr>\n",
       "    <tr>\n",
       "      <th>4</th>\n",
       "      <td>896</td>\n",
       "      <td>1</td>\n",
       "    </tr>\n",
       "    <tr>\n",
       "      <th>...</th>\n",
       "      <td>...</td>\n",
       "      <td>...</td>\n",
       "    </tr>\n",
       "    <tr>\n",
       "      <th>413</th>\n",
       "      <td>1305</td>\n",
       "      <td>0</td>\n",
       "    </tr>\n",
       "    <tr>\n",
       "      <th>414</th>\n",
       "      <td>1306</td>\n",
       "      <td>1</td>\n",
       "    </tr>\n",
       "    <tr>\n",
       "      <th>415</th>\n",
       "      <td>1307</td>\n",
       "      <td>0</td>\n",
       "    </tr>\n",
       "    <tr>\n",
       "      <th>416</th>\n",
       "      <td>1308</td>\n",
       "      <td>0</td>\n",
       "    </tr>\n",
       "    <tr>\n",
       "      <th>417</th>\n",
       "      <td>1309</td>\n",
       "      <td>0</td>\n",
       "    </tr>\n",
       "  </tbody>\n",
       "</table>\n",
       "<p>418 rows × 2 columns</p>\n",
       "</div>"
      ],
      "text/plain": [
       "     PassengerId  Survived\n",
       "0            892         0\n",
       "1            893         1\n",
       "2            894         0\n",
       "3            895         0\n",
       "4            896         1\n",
       "..           ...       ...\n",
       "413         1305         0\n",
       "414         1306         1\n",
       "415         1307         0\n",
       "416         1308         0\n",
       "417         1309         0\n",
       "\n",
       "[418 rows x 2 columns]"
      ]
     },
     "execution_count": 89,
     "metadata": {},
     "output_type": "execute_result"
    }
   ],
   "source": [
    "svm_pred_sub=test[['PassengerId']]\n",
    "survived_df=pd.DataFrame({'Survived': list(svm_cv.predict(X_test))})\n",
    "svm_sub=svm_pred_sub.join(survived_df)\n",
    "svm_sub"
   ]
  },
  {
   "cell_type": "code",
   "execution_count": 90,
   "id": "031db98f",
   "metadata": {},
   "outputs": [
    {
     "data": {
      "text/plain": [
       "True     374\n",
       "False     44\n",
       "Name: Survived, dtype: int64"
      ]
     },
     "execution_count": 90,
     "metadata": {},
     "output_type": "execute_result"
    }
   ],
   "source": [
    "abc=tree_sub.loc[:,'Survived']==svm_sub.loc[:,'Survived']\n",
    "abc.value_counts()"
   ]
  },
  {
   "cell_type": "code",
   "execution_count": 92,
   "id": "5ed4e3b5",
   "metadata": {
    "scrolled": true
   },
   "outputs": [],
   "source": [
    "sub=tree_sub['PassengerId']"
   ]
  },
  {
   "cell_type": "code",
   "execution_count": 93,
   "id": "94ee99d6",
   "metadata": {},
   "outputs": [],
   "source": [
    "tree_sub.to_csv(r'C:\\Users\\sonik\\Downloads\\titanic\\treesub.csv', index=False)"
   ]
  },
  {
   "cell_type": "code",
   "execution_count": 94,
   "id": "af8dddbb",
   "metadata": {},
   "outputs": [],
   "source": [
    "svm_sub.to_csv(r'C:\\Users\\sonik\\Downloads\\titanic\\svmsub.csv', index=False)"
   ]
  },
  {
   "cell_type": "code",
   "execution_count": null,
   "id": "8f93068f",
   "metadata": {},
   "outputs": [],
   "source": []
  },
  {
   "cell_type": "code",
   "execution_count": null,
   "id": "a97870b5",
   "metadata": {},
   "outputs": [],
   "source": []
  }
 ],
 "metadata": {
  "kernelspec": {
   "display_name": "Python 3 (ipykernel)",
   "language": "python",
   "name": "python3"
  },
  "language_info": {
   "codemirror_mode": {
    "name": "ipython",
    "version": 3
   },
   "file_extension": ".py",
   "mimetype": "text/x-python",
   "name": "python",
   "nbconvert_exporter": "python",
   "pygments_lexer": "ipython3",
   "version": "3.9.13"
  }
 },
 "nbformat": 4,
 "nbformat_minor": 5
}

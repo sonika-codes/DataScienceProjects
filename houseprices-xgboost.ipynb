{
 "cells": [
  {
   "cell_type": "code",
   "execution_count": 1,
   "id": "e36fe951",
   "metadata": {
    "_cell_guid": "b1076dfc-b9ad-4769-8c92-a6c4dae69d19",
    "_uuid": "8f2839f25d086af736a60e9eeb907d3b93b6e0e5",
    "execution": {
     "iopub.execute_input": "2023-03-10T05:46:39.894592Z",
     "iopub.status.busy": "2023-03-10T05:46:39.894013Z",
     "iopub.status.idle": "2023-03-10T05:46:39.912850Z",
     "shell.execute_reply": "2023-03-10T05:46:39.911539Z"
    },
    "papermill": {
     "duration": 0.030219,
     "end_time": "2023-03-10T05:46:39.916172",
     "exception": false,
     "start_time": "2023-03-10T05:46:39.885953",
     "status": "completed"
    },
    "tags": []
   },
   "outputs": [
    {
     "name": "stdout",
     "output_type": "stream",
     "text": [
      "/kaggle/input/house-prices-advanced-regression-techniques/sample_submission.csv\n",
      "/kaggle/input/house-prices-advanced-regression-techniques/data_description.txt\n",
      "/kaggle/input/house-prices-advanced-regression-techniques/train.csv\n",
      "/kaggle/input/house-prices-advanced-regression-techniques/test.csv\n"
     ]
    }
   ],
   "source": [
    "# This Python 3 environment comes with many helpful analytics libraries installed\n",
    "# It is defined by the kaggle/python Docker image: https://github.com/kaggle/docker-python\n",
    "# For example, here's several helpful packages to load\n",
    "\n",
    "import numpy as np # linear algebra\n",
    "import pandas as pd # data processing, CSV file I/O (e.g. pd.read_csv)\n",
    "\n",
    "# Input data files are available in the read-only \"../input/\" directory\n",
    "# For example, running this (by clicking run or pressing Shift+Enter) will list all files under the input directory\n",
    "\n",
    "import os\n",
    "for dirname, _, filenames in os.walk('/kaggle/input'):\n",
    "    for filename in filenames:\n",
    "        print(os.path.join(dirname, filename))\n",
    "\n",
    "# You can write up to 20GB to the current directory (/kaggle/working/) that gets preserved as output when you create a version using \"Save & Run All\" \n",
    "# You can also write temporary files to /kaggle/temp/, but they won't be saved outside of the current session"
   ]
  },
  {
   "cell_type": "code",
   "execution_count": 2,
   "id": "0e75bfd8",
   "metadata": {
    "execution": {
     "iopub.execute_input": "2023-03-10T05:46:39.929182Z",
     "iopub.status.busy": "2023-03-10T05:46:39.928735Z",
     "iopub.status.idle": "2023-03-10T05:46:42.143880Z",
     "shell.execute_reply": "2023-03-10T05:46:42.142614Z"
    },
    "papermill": {
     "duration": 2.224723,
     "end_time": "2023-03-10T05:46:42.146763",
     "exception": false,
     "start_time": "2023-03-10T05:46:39.922040",
     "status": "completed"
    },
    "tags": []
   },
   "outputs": [],
   "source": [
    "import matplotlib.pyplot as plt\n",
    "import seaborn as sns\n",
    "from sklearn.decomposition import PCA\n",
    "from sklearn.linear_model import Ridge\n",
    "from sklearn.model_selection import GridSearchCV\n",
    "from sklearn.model_selection import train_test_split\n",
    "\n",
    "from sklearn.pipeline import Pipeline\n",
    "from sklearn.impute import SimpleImputer\n",
    "from sklearn.preprocessing import StandardScaler\n",
    "from sklearn.preprocessing import OneHotEncoder\n",
    "from sklearn.preprocessing import OrdinalEncoder\n",
    "from sklearn.compose import ColumnTransformer\n",
    "\n",
    "\n",
    "\n",
    "from sklearn.linear_model import RidgeCV\n",
    "from sklearn.model_selection import RepeatedKFold\n",
    "from sklearn.model_selection import cross_val_score\n",
    "from sklearn.metrics import mean_absolute_error\n",
    "\n",
    "from sklearn.metrics import mean_squared_error\n",
    "from sklearn.metrics import r2_score\n",
    "\n",
    "from sklearn.feature_selection import RFE\n",
    "from sklearn.ensemble import RandomForestRegressor\n",
    "from xgboost import XGBRegressor\n",
    "\n",
    "from numpy import arange"
   ]
  },
  {
   "cell_type": "code",
   "execution_count": 3,
   "id": "80b4c91b",
   "metadata": {
    "execution": {
     "iopub.execute_input": "2023-03-10T05:46:42.158629Z",
     "iopub.status.busy": "2023-03-10T05:46:42.158094Z",
     "iopub.status.idle": "2023-03-10T05:46:42.254373Z",
     "shell.execute_reply": "2023-03-10T05:46:42.253237Z"
    },
    "papermill": {
     "duration": 0.105371,
     "end_time": "2023-03-10T05:46:42.257104",
     "exception": false,
     "start_time": "2023-03-10T05:46:42.151733",
     "status": "completed"
    },
    "tags": []
   },
   "outputs": [],
   "source": [
    "train=pd.read_csv(r'/kaggle/input/house-prices-advanced-regression-techniques/train.csv')\n",
    "test=pd.read_csv(r'/kaggle/input/house-prices-advanced-regression-techniques/test.csv')"
   ]
  },
  {
   "cell_type": "code",
   "execution_count": 4,
   "id": "d60e0777",
   "metadata": {
    "execution": {
     "iopub.execute_input": "2023-03-10T05:46:42.269558Z",
     "iopub.status.busy": "2023-03-10T05:46:42.268778Z",
     "iopub.status.idle": "2023-03-10T05:46:42.308676Z",
     "shell.execute_reply": "2023-03-10T05:46:42.307283Z"
    },
    "papermill": {
     "duration": 0.049587,
     "end_time": "2023-03-10T05:46:42.311803",
     "exception": false,
     "start_time": "2023-03-10T05:46:42.262216",
     "status": "completed"
    },
    "tags": []
   },
   "outputs": [],
   "source": [
    "train.dropna(axis=0, subset=['SalePrice'], inplace=True)\n",
    "y=train.SalePrice\n",
    "train.drop(['SalePrice'], axis=1, inplace=True)\n",
    "\n",
    "X_train_full,X_valid_full, y_train, y_valid = train_test_split(train, y, test_size=0.2, random_state=0)\n",
    "\n",
    "num_cols=[col for col in train.columns if train[col].dtype!=object]\n",
    "cat_cols=[col for col in train.columns if train[col].dtype==object and train[col].nunique()<10]\n",
    "mycols=num_cols+cat_cols"
   ]
  },
  {
   "cell_type": "code",
   "execution_count": 5,
   "id": "6ad97186",
   "metadata": {
    "execution": {
     "iopub.execute_input": "2023-03-10T05:46:42.323805Z",
     "iopub.status.busy": "2023-03-10T05:46:42.323314Z",
     "iopub.status.idle": "2023-03-10T05:46:42.336661Z",
     "shell.execute_reply": "2023-03-10T05:46:42.335364Z"
    },
    "papermill": {
     "duration": 0.022669,
     "end_time": "2023-03-10T05:46:42.339476",
     "exception": false,
     "start_time": "2023-03-10T05:46:42.316807",
     "status": "completed"
    },
    "tags": []
   },
   "outputs": [],
   "source": [
    "\n",
    "\n",
    "X_train=X_train_full[mycols].copy()\n",
    "X_valid=X_valid_full[mycols].copy()\n",
    "X_test=test[mycols].copy()"
   ]
  },
  {
   "cell_type": "code",
   "execution_count": 6,
   "id": "f2ee92f8",
   "metadata": {
    "execution": {
     "iopub.execute_input": "2023-03-10T05:46:42.351441Z",
     "iopub.status.busy": "2023-03-10T05:46:42.351020Z",
     "iopub.status.idle": "2023-03-10T05:46:42.358771Z",
     "shell.execute_reply": "2023-03-10T05:46:42.357758Z"
    },
    "papermill": {
     "duration": 0.016443,
     "end_time": "2023-03-10T05:46:42.361105",
     "exception": false,
     "start_time": "2023-03-10T05:46:42.344662",
     "status": "completed"
    },
    "tags": []
   },
   "outputs": [],
   "source": [
    "num_transform=SimpleImputer(strategy='mean')\n",
    "cat_transform=Pipeline(steps=[('imp', SimpleImputer(strategy='most_frequent')),\n",
    "                              ('oe',OneHotEncoder(handle_unknown='ignore'))\n",
    "                               ])\n",
    "                              \n",
    "ct=ColumnTransformer(transformers=[('num',num_transform, num_cols),\n",
    "                                   ('cat',cat_transform, cat_cols)\n",
    "    \n",
    "])\n",
    "                              \n",
    "model= XGBRegressor(n_jobs=5)\n",
    "\n",
    "mypipe= Pipeline(steps=[\n",
    "    ('preprocessor', ct),\n",
    "    ('xgb',model)\n",
    "])\n",
    "\n",
    "\n"
   ]
  },
  {
   "cell_type": "code",
   "execution_count": 7,
   "id": "620c05c0",
   "metadata": {
    "execution": {
     "iopub.execute_input": "2023-03-10T05:46:42.374200Z",
     "iopub.status.busy": "2023-03-10T05:46:42.372958Z",
     "iopub.status.idle": "2023-03-10T05:46:42.377966Z",
     "shell.execute_reply": "2023-03-10T05:46:42.377018Z"
    },
    "papermill": {
     "duration": 0.01424,
     "end_time": "2023-03-10T05:46:42.380361",
     "exception": false,
     "start_time": "2023-03-10T05:46:42.366121",
     "status": "completed"
    },
    "tags": []
   },
   "outputs": [],
   "source": [
    "# fit_params={'model__early_stopping_rounds': 30, \n",
    "#             'model__verbose': False,\n",
    "#             'model__eval_set': [(X_valid, y_valid)]}\n",
    "\n",
    "# scores = -1 * cross_val_score(mypipe, X_train, y_train,\n",
    "#                               cv=5, \n",
    "#                               scoring='neg_mean_absolute_error', \n",
    "#                               )\n",
    "\n",
    "# print(\"MAE scores:\\n\", scores.mean())"
   ]
  },
  {
   "cell_type": "code",
   "execution_count": 8,
   "id": "c206251c",
   "metadata": {
    "execution": {
     "iopub.execute_input": "2023-03-10T05:46:42.392684Z",
     "iopub.status.busy": "2023-03-10T05:46:42.391421Z",
     "iopub.status.idle": "2023-03-10T05:51:49.444727Z",
     "shell.execute_reply": "2023-03-10T05:51:49.443422Z"
    },
    "papermill": {
     "duration": 307.0628,
     "end_time": "2023-03-10T05:51:49.448065",
     "exception": false,
     "start_time": "2023-03-10T05:46:42.385265",
     "status": "completed"
    },
    "tags": []
   },
   "outputs": [],
   "source": [
    "param_grid = {\n",
    "    \"xgb__n_estimators\": [100,500,1000],\n",
    "    \"xgb__learning_rate\": [0.01, 0.05, 0.1]\n",
    "    \n",
    "}\n",
    "\n",
    "# params = {\"mypipe__xgb__eval_set\": [(X_valid, y_valid)], \n",
    "#               \"mypipe__xgb__early_stopping_rounds\": 10, \n",
    "#               \"mypipe__xgb__verbose\": False}\n",
    "\n",
    "searchCV = GridSearchCV(mypipe, cv=5, param_grid=param_grid, scoring='neg_mean_squared_error')\n",
    "searchCV.fit(X_train, y_train) \n",
    "              \n",
    "\n",
    "best_n_estimators = searchCV.best_params_['xgb__n_estimators']\n",
    "best_learning_rate = searchCV.best_params_['xgb__learning_rate']"
   ]
  },
  {
   "cell_type": "code",
   "execution_count": 9,
   "id": "4c732f77",
   "metadata": {
    "execution": {
     "iopub.execute_input": "2023-03-10T05:51:49.462450Z",
     "iopub.status.busy": "2023-03-10T05:51:49.460859Z",
     "iopub.status.idle": "2023-03-10T05:51:49.469337Z",
     "shell.execute_reply": "2023-03-10T05:51:49.467999Z"
    },
    "papermill": {
     "duration": 0.018852,
     "end_time": "2023-03-10T05:51:49.473004",
     "exception": false,
     "start_time": "2023-03-10T05:51:49.454152",
     "status": "completed"
    },
    "tags": []
   },
   "outputs": [
    {
     "name": "stdout",
     "output_type": "stream",
     "text": [
      "Best learning rate is 0.1. Best number of estimators is 500.\n",
      "best score is 27989.274549332848\n"
     ]
    }
   ],
   "source": [
    "print(f'Best learning rate is {best_learning_rate}. Best number of estimators is {best_n_estimators}.')\n",
    "print(f'best score is {np.sqrt(-searchCV.best_score_)}')"
   ]
  },
  {
   "cell_type": "code",
   "execution_count": 10,
   "id": "3edcd3da",
   "metadata": {
    "execution": {
     "iopub.execute_input": "2023-03-10T05:51:49.485871Z",
     "iopub.status.busy": "2023-03-10T05:51:49.485386Z",
     "iopub.status.idle": "2023-03-10T05:52:20.648215Z",
     "shell.execute_reply": "2023-03-10T05:52:20.646647Z"
    },
    "papermill": {
     "duration": 31.172806,
     "end_time": "2023-03-10T05:52:20.651218",
     "exception": false,
     "start_time": "2023-03-10T05:51:49.478412",
     "status": "completed"
    },
    "tags": []
   },
   "outputs": [
    {
     "name": "stdout",
     "output_type": "stream",
     "text": [
      "MSE scores:\n",
      " 27109.467972448656\n"
     ]
    }
   ],
   "source": [
    "mypipe= Pipeline(steps=[\n",
    "    ('preprocessor', ct),\n",
    "    ('xgb',XGBRegressor(n_estimators=500, learning_rate=0.1, n_jobs=5))\n",
    "])\n",
    "\n",
    "# mypipe.fit(X_train,y_train, eval_set=[(X_valid,y_valid)], verbose=False)\n",
    "\n",
    "scores = np.sqrt(-1 * cross_val_score(mypipe, X_train, y_train,\n",
    "                              cv=5,\n",
    "                              scoring='neg_mean_squared_error'))\n",
    "\n",
    "print(\"MSE scores:\\n\", scores.mean())"
   ]
  },
  {
   "cell_type": "code",
   "execution_count": 11,
   "id": "538678cf",
   "metadata": {
    "execution": {
     "iopub.execute_input": "2023-03-10T05:52:20.663500Z",
     "iopub.status.busy": "2023-03-10T05:52:20.663056Z",
     "iopub.status.idle": "2023-03-10T05:52:56.084155Z",
     "shell.execute_reply": "2023-03-10T05:52:56.082763Z"
    },
    "papermill": {
     "duration": 35.432873,
     "end_time": "2023-03-10T05:52:56.089058",
     "exception": false,
     "start_time": "2023-03-10T05:52:20.656185",
     "status": "completed"
    },
    "tags": []
   },
   "outputs": [
    {
     "name": "stdout",
     "output_type": "stream",
     "text": [
      "MSE scores:\n",
      " 27936.45915891581\n"
     ]
    }
   ],
   "source": [
    "final_X=pd.concat([X_train,X_valid], axis=0)\n",
    "final_y=pd.concat([y_train,y_valid], axis=0)\n",
    "\n",
    "scores = np.sqrt(-1 * cross_val_score(mypipe, final_X, final_y,\n",
    "                              cv=5,\n",
    "                              scoring='neg_mean_squared_error'))\n",
    "print(\"MSE scores:\\n\", scores.mean())"
   ]
  },
  {
   "cell_type": "code",
   "execution_count": 12,
   "id": "2b128a61",
   "metadata": {
    "execution": {
     "iopub.execute_input": "2023-03-10T05:52:56.101493Z",
     "iopub.status.busy": "2023-03-10T05:52:56.101048Z",
     "iopub.status.idle": "2023-03-10T05:53:04.160927Z",
     "shell.execute_reply": "2023-03-10T05:53:04.159506Z"
    },
    "papermill": {
     "duration": 8.069568,
     "end_time": "2023-03-10T05:53:04.163934",
     "exception": false,
     "start_time": "2023-03-10T05:52:56.094366",
     "status": "completed"
    },
    "tags": []
   },
   "outputs": [],
   "source": [
    "mypipe.fit(final_X,final_y)\n",
    "\n",
    "submissions5=mypipe.predict(X_test)\n",
    "submissions_5=pd.DataFrame({'Id': test['Id'],\n",
    "                          'SalePrice': submissions5\n",
    "                           })\n"
   ]
  },
  {
   "cell_type": "code",
   "execution_count": 13,
   "id": "939df620",
   "metadata": {
    "execution": {
     "iopub.execute_input": "2023-03-10T05:53:04.176338Z",
     "iopub.status.busy": "2023-03-10T05:53:04.175465Z",
     "iopub.status.idle": "2023-03-10T05:53:04.201229Z",
     "shell.execute_reply": "2023-03-10T05:53:04.199875Z"
    },
    "papermill": {
     "duration": 0.035147,
     "end_time": "2023-03-10T05:53:04.204103",
     "exception": false,
     "start_time": "2023-03-10T05:53:04.168956",
     "status": "completed"
    },
    "tags": []
   },
   "outputs": [
    {
     "data": {
      "text/html": [
       "<div>\n",
       "<style scoped>\n",
       "    .dataframe tbody tr th:only-of-type {\n",
       "        vertical-align: middle;\n",
       "    }\n",
       "\n",
       "    .dataframe tbody tr th {\n",
       "        vertical-align: top;\n",
       "    }\n",
       "\n",
       "    .dataframe thead th {\n",
       "        text-align: right;\n",
       "    }\n",
       "</style>\n",
       "<table border=\"1\" class=\"dataframe\">\n",
       "  <thead>\n",
       "    <tr style=\"text-align: right;\">\n",
       "      <th></th>\n",
       "      <th>Id</th>\n",
       "      <th>SalePrice</th>\n",
       "    </tr>\n",
       "  </thead>\n",
       "  <tbody>\n",
       "    <tr>\n",
       "      <th>0</th>\n",
       "      <td>1461</td>\n",
       "      <td>125206.992188</td>\n",
       "    </tr>\n",
       "    <tr>\n",
       "      <th>1</th>\n",
       "      <td>1462</td>\n",
       "      <td>154928.937500</td>\n",
       "    </tr>\n",
       "    <tr>\n",
       "      <th>2</th>\n",
       "      <td>1463</td>\n",
       "      <td>177393.796875</td>\n",
       "    </tr>\n",
       "    <tr>\n",
       "      <th>3</th>\n",
       "      <td>1464</td>\n",
       "      <td>192756.609375</td>\n",
       "    </tr>\n",
       "    <tr>\n",
       "      <th>4</th>\n",
       "      <td>1465</td>\n",
       "      <td>188503.656250</td>\n",
       "    </tr>\n",
       "  </tbody>\n",
       "</table>\n",
       "</div>"
      ],
      "text/plain": [
       "     Id      SalePrice\n",
       "0  1461  125206.992188\n",
       "1  1462  154928.937500\n",
       "2  1463  177393.796875\n",
       "3  1464  192756.609375\n",
       "4  1465  188503.656250"
      ]
     },
     "execution_count": 13,
     "metadata": {},
     "output_type": "execute_result"
    }
   ],
   "source": [
    "submissions_5.head()"
   ]
  },
  {
   "cell_type": "code",
   "execution_count": 14,
   "id": "2f90063d",
   "metadata": {
    "execution": {
     "iopub.execute_input": "2023-03-10T05:53:04.217835Z",
     "iopub.status.busy": "2023-03-10T05:53:04.216696Z",
     "iopub.status.idle": "2023-03-10T05:53:04.232007Z",
     "shell.execute_reply": "2023-03-10T05:53:04.230663Z"
    },
    "papermill": {
     "duration": 0.026023,
     "end_time": "2023-03-10T05:53:04.235783",
     "exception": false,
     "start_time": "2023-03-10T05:53:04.209760",
     "status": "completed"
    },
    "tags": []
   },
   "outputs": [],
   "source": [
    "submissions_5.to_csv('xgb_pipeline_2.csv', index=False)"
   ]
  },
  {
   "cell_type": "code",
   "execution_count": null,
   "id": "1dd02989",
   "metadata": {
    "execution": {
     "iopub.execute_input": "2023-03-08T23:29:53.864507Z",
     "iopub.status.busy": "2023-03-08T23:29:53.864098Z",
     "iopub.status.idle": "2023-03-08T23:29:53.882418Z",
     "shell.execute_reply": "2023-03-08T23:29:53.881076Z",
     "shell.execute_reply.started": "2023-03-08T23:29:53.864470Z"
    },
    "papermill": {
     "duration": 0.005136,
     "end_time": "2023-03-10T05:53:04.246279",
     "exception": false,
     "start_time": "2023-03-10T05:53:04.241143",
     "status": "completed"
    },
    "tags": []
   },
   "outputs": [],
   "source": []
  },
  {
   "cell_type": "code",
   "execution_count": null,
   "id": "50dc0a2a",
   "metadata": {
    "papermill": {
     "duration": 0.004718,
     "end_time": "2023-03-10T05:53:04.256184",
     "exception": false,
     "start_time": "2023-03-10T05:53:04.251466",
     "status": "completed"
    },
    "tags": []
   },
   "outputs": [],
   "source": []
  }
 ],
 "metadata": {
  "kernelspec": {
   "display_name": "Python 3",
   "language": "python",
   "name": "python3"
  },
  "language_info": {
   "codemirror_mode": {
    "name": "ipython",
    "version": 3
   },
   "file_extension": ".py",
   "mimetype": "text/x-python",
   "name": "python",
   "nbconvert_exporter": "python",
   "pygments_lexer": "ipython3",
   "version": "3.7.12"
  },
  "papermill": {
   "default_parameters": {},
   "duration": 396.863682,
   "end_time": "2023-03-10T05:53:05.187439",
   "environment_variables": {},
   "exception": null,
   "input_path": "__notebook__.ipynb",
   "output_path": "__notebook__.ipynb",
   "parameters": {},
   "start_time": "2023-03-10T05:46:28.323757",
   "version": "2.4.0"
  }
 },
 "nbformat": 4,
 "nbformat_minor": 5
}
